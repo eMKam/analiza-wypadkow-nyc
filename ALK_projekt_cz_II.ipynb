{
 "cells": [
  {
   "cell_type": "markdown",
   "id": "d4fd56b7-7cb8-403b-b08e-1c89a76912dd",
   "metadata": {},
   "source": [
    "# Projekt Analiza Danych\n",
    "## AKADEMIA LEONA KOŹMIŃSKIEGO\n",
    "### Kierunek: Python Development – analiza danych, uczenie maszynowe, projektowanie rozwiązań IT\n",
    "## Temat: **Analiza danych dotyczących wypadków samochodowych w Nowym Jorku**\n",
    "\n",
    "---"
   ]
  },
  {
   "cell_type": "markdown",
   "id": "ec3f657d-a878-49ad-823a-66d42048e2cd",
   "metadata": {},
   "source": [
    "# 🚦 **Analiza wypadków drogowych w Nowym Jorku - Cześć II**\n",
    "\n",
    "## 🎯 Cel projektu\n",
    "\n",
    "Celem niniejszej analizy jest zidentyfikowanie najważniejszych wzorców, przyczyn i skutków wypadków drogowych, jakie miały miejsce w Nowym Jorku. Analiza opiera się na danych przestrzennych oraz szczegółowych informacjach o zdarzeniach, które obejmują m.in. czas, miejsce, rodzaj pojazdów, liczbę ofiar oraz czynniki przyczyniające się do wypadków.\n",
    "\n",
    "Projekt ma na celu:\n",
    "- wyodrębnienie przestrzennych i czasowych wzorców wypadków,\n",
    "- ocenę najczęstszych i najbardziej niebezpiecznych przyczyn kolizji,\n",
    "- identyfikację najbardziej zagrożonych lokalizacji w mieście,\n",
    "- sformułowanie wniosków dotyczących bezpieczeństwa ruchu drogowego w Nowym Jorku.\n",
    "\n",
    "## 📌 Założenia analizy\n",
    "\n",
    "- Analizowany zbiór danych dotyczy wypadków, które wydarzyły się w granicach administracyjnych **Nowego Jorku**.\n",
    "- Jeżeli dane lokalizacyjne wskazują na położenie **poza granicami miasta**, to zakłada się, że doszło do błędu przy wprowadzaniu danych.\n",
    "- Takie wpisy są **pomijane w analizach przestrzennych oraz w podziale na dzielnice**.\n",
    "- Mogą być jednak uwzględniane w **ogólnych statystykach** dotyczących całego miasta, w których dokładna lokalizacja nie ma kluczowego znaczenia.\n",
    "\n",
    "## 🧰 Narzędzia i technologie\n",
    "\n",
    "Analiza została przeprowadzona z wykorzystaniem:\n",
    "- **Python** (Pandas, GeoPandas, Seaborn, Matplotlib, Folium),\n",
    "- **Jupyter Notebook** jako środowisko do eksploracji danych i wizualizacji,\n",
    "- **układu współrzędnych EPSG:2263** do analiz przestrzennych oraz **EPSG:4326** dla wizualizacji mapowych.\n",
    "\n",
    "## 🗂️ Struktura notebooka\n",
    "\n",
    "Notebook został podzielony na następujące rozdziały:\n",
    "\n",
    "1. 📂 **Wczytanie danych** – przygotowanie i oczyszczenie zbioru danych.\n",
    "2. 🗺️ **Lokalizacja miejsc wypadków** – analiza rozmieszczenia zdarzeń w przestrzeni miejskiej.\n",
    "3. 🕒 **Analiza czasowa wypadków** – przegląd sezonowości i godzin szczytu.\n",
    "4. 🚗 **Analiza typów pojazdów** – jakie pojazdy najczęściej uczestniczą w wypadkach.\n",
    "5. ⚠️ **Analiza przyczyn i skutków** – identyfikacja czynników odpowiedzialnych za kolizje i ich konsekwencje.\n",
    "6. 📊 **Wnioski** – podsumowanie ustaleń i rekomendacje.\n",
    "\n",
    "---\n",
    "\n",
    "> 📌 W notebooku zastosowano **interaktywny spis treści z ikonami**, aby ułatwić nawigację pomiędzy sekcjami. Każdy rozdział zawiera krótkie **podsumowanie**, które przedstawia najważniejsze informacje w zwięzły sposób.\n",
    "\n",
    "---\n"
   ]
  },
  {
   "cell_type": "markdown",
   "id": "49d4243d-1a00-4480-867f-9ae36aee38e2",
   "metadata": {},
   "source": [
    "# 📚 **Spis treści**\n",
    "\n",
    "---\n",
    "\n",
    "## [📂 1. Wczytanie danych oraz import wymaganych bibliotek](#📂-1-Wczytanie-danych)\n",
    "\n",
    "📥 Import danych o wypadkach drogowych oraz wstępna eksploracja struktury danych.\n",
    "\n",
    "---\n",
    "\n",
    "## [🗺️ 2. Lokalizacja miejsc wypadków](#🗺️-2-Lokalizacja-miejsc-wypadków)\n",
    "\n",
    "📌 Przekształcenie danych do formatu geoprzestrzennego oraz wizualizacja rozkładu zdarzeń na mapie.\n",
    "\n",
    "---\n",
    "\n",
    "## [🕒 3. Analiza czasowa wypadków](#🕒-3-Analiza-czasowa-wypadków)\n",
    "\n",
    "🗓️ Analiza występowania wypadków w ujęciu godzinowym i tygodniowym w celu identyfikacji wzorców czasowych. Przedział czasowy danych 2012.07.01 - 2019.11.26\n",
    "\n",
    "---\n",
    "\n",
    "## [🚗 4. Analiza typów pojazdów biorących udział w wypadkach](#🚗-4--Analiza-typów-pojazdów-biorących-udział-w-wypadkach)\n",
    "\n",
    "🚙 Sprawdzenie, które rodzaje pojazdów najczęściej uczestniczą w wypadkach i jak to wpływa na ich skutki.\n",
    "\n",
    "---\n",
    "\n",
    "## [⚠️ 5. Analiza przyczyn i skutków wypadków](#⚠️-5-Analiza-przyczyn-i-skutków-wypadków)\n",
    "\n",
    "🔎 Identyfikacja najczęstszych oraz najniebezpieczniejszych przyczyn wypadków z uwzględnieniem liczby ofiar i różnic między dzielnicami.\n",
    "\n",
    "---\n",
    "\n",
    "## [📊 6. Wnioski z przeprowadzonej analizy](#📊-6-Wnioski-z-przeprowadzonej-analizy)\n",
    "\n",
    "🧠 Podsumowanie najważniejszych wyników – najbardziej niebezpieczne lokalizacje, czynniki oraz różnice przestrzenne i czasowe.\n",
    "\n",
    "\n",
    "---\n",
    "\n",
    "🔍 **Podsumowanie**: Dane zostały przygotowane do dalszej analizy w pierwszej części projektu i pomyślnie wczytane. Zidentyfikowano kluczowe kolumny oraz usunięto wartości brakujące.\n",
    "\n",
    "---\n",
    "\n",
    "📌 **Podsumowanie**: Przestrzenna analiza danych pozwoliła zidentyfikować koncentrację wypadków w określonych obszarach miejskich, szczególnie w centrum Manhattanu i wzdłuż głównych arterii komunikacyjnych.\n",
    "\n",
    "---\n",
    "\n",
    "🕰️ **Podsumowanie**: Analiza czasowa wykazała wyraźne szczyty liczby wypadków w godzinach porannych i popołudniowych, a także zwiększone ryzyko w piątki.\n",
    "\n",
    "---\n",
    "\n",
    "⚠️ **Podsumowanie**: Nieuwaga kierowców i nieprzestrzeganie przepisów to dominujące przyczyny wypadków, z dużym udziałem ofiar. Kluczowe jest ukierunkowanie działań profilaktycznych na te czynniki.\n",
    "\n",
    "---\n",
    "\n",
    "🧠 **Podsumowanie**: Wnioski wskazują na konieczność kompleksowego podejścia do bezpieczeństwa drogowego, uwzględniającego aspekty przestrzenne, czasowe oraz charakter zdarzeń."
   ]
  },
  {
   "cell_type": "markdown",
   "id": "f2bb729b-2c7f-40df-a3f1-0f8be0c1c3f2",
   "metadata": {},
   "source": [
    "## 📂 **1. Wczytanie danych oraz import wymaganych bibliotek**\n",
    "\n",
    "---\n",
    "\n",
    "🔍 **Podsumowanie**: Przygotowane w częsci I dane zostały pomyślnie wczytane, zaimportowano konieczne biblioteki i pakiety."
   ]
  },
  {
   "cell_type": "code",
   "execution_count": null,
   "id": "597c439f-4a29-40cc-b735-087d2612bbc0",
   "metadata": {},
   "outputs": [],
   "source": [
    "# Import wymaganych pakietów\n",
    "import pandas as pd\n",
    "import geopandas as gpd\n",
    "from geopy.geocoders import Nominatim\n",
    "from geopy.extra.rate_limiter import RateLimiter\n",
    "import re\n",
    "import branca as bc\n",
    "import folium\n",
    "import numpy as np\n",
    "import matplotlib.pyplot as plt\n",
    "import seaborn as sns\n",
    "import geopandas as gpd\n",
    "from shapely.geometry import Point\n",
    "from folium.plugins import MarkerCluster\n",
    "from folium.plugins import HeatMap\n",
    "# rozszerzenia nbextensions do spisu treści\n",
    "\n",
    "# wyświetlanie wykresów Matplotlib bezpośrednio pod komórkami\n",
    "%matplotlib inline \n",
    "\n",
    "# Wymagane instalacje w terminalu:\n",
    "# pip install geopandas pandas\n",
    "# pip install branca\n",
    "# pip install folium matplotlib mapclassify\n",
    "# pip install jupyter_contrib_nbextensions\n",
    "# jupyter contrib nbextension install --user"
   ]
  },
  {
   "cell_type": "code",
   "execution_count": null,
   "id": "9c171ebf-1d3c-44df-81d8-7ae83b87b29b",
   "metadata": {},
   "outputs": [],
   "source": [
    "# Dane wypadków przetworzone na potrzeby analizy\n",
    "Corrected_data_df = pd.read_csv(r\"Data/nypd-motor-vehicle-collisions/nypd-motor-vehicle-collisions-updated.csv\", \n",
    "                                engine = \"pyarrow\")\n",
    "\n"
   ]
  },
  {
   "cell_type": "code",
   "execution_count": null,
   "id": "54a3f33a-9c43-42fd-bf78-8b085d079137",
   "metadata": {},
   "outputs": [],
   "source": [
    "# Unikalne nazwy typów pojazdów uczestniczących w wypadkach\n",
    "Unique_vehicle_types_sr = pd.read_csv(r\"Data/unique_vehicle_types.csv\",\n",
    "                                      engine = \"pyarrow\").iloc[:, 0]"
   ]
  },
  {
   "cell_type": "markdown",
   "id": "1f6a5934-afea-4fa3-8e54-f105e1b988bb",
   "metadata": {},
   "source": [
    "Sprawdzenie:"
   ]
  },
  {
   "cell_type": "code",
   "execution_count": null,
   "id": "e57978ca-2dc9-4401-b5b3-eb4f79207d22",
   "metadata": {},
   "outputs": [],
   "source": [
    "#Corrected_data_df.head(3)"
   ]
  },
  {
   "cell_type": "code",
   "execution_count": null,
   "id": "911a28d1-a440-4a11-ae7f-3b92b64bcc23",
   "metadata": {},
   "outputs": [],
   "source": [
    "#Corrected_data_df.info()"
   ]
  },
  {
   "cell_type": "code",
   "execution_count": null,
   "id": "a0c61caa-7ec5-41d1-941a-d5b9ee830ace",
   "metadata": {},
   "outputs": [],
   "source": [
    "#Corrected_data_df.describe(include='all')"
   ]
  },
  {
   "cell_type": "code",
   "execution_count": null,
   "id": "ed804e58-79f9-4695-acd6-0314e281e57a",
   "metadata": {},
   "outputs": [],
   "source": [
    "# Sprawdzenie brakujących danych\n",
    "#Corrected_data_df.isnull().mean().sort_values(ascending=False)"
   ]
  },
  {
   "cell_type": "code",
   "execution_count": null,
   "id": "c91e0b65-b422-44c7-95a7-282ec0c660aa",
   "metadata": {},
   "outputs": [],
   "source": [
    "# Unique_vehicle_types_sr.head()"
   ]
  },
  {
   "cell_type": "markdown",
   "id": "34ffa03a-7b7c-46cd-9a2b-bbb0560681f1",
   "metadata": {},
   "source": [
    "## 🗺️ **2. Lokalizacja miejsc wypadków**\n",
    "\n",
    "---\n",
    "\n",
    "📌 **Podsumowanie**: Przestrzenna analiza danych pozwoliła zidentyfikować koncentrację wypadków w określonych obszarach miejskich, szczególnie w centrum Manhattanu i wzdłuż głównych arterii komunikacyjnych."
   ]
  },
  {
   "cell_type": "code",
   "execution_count": null,
   "id": "5e1bbfcc-d71b-44b5-9a71-b0eaf996a9e6",
   "metadata": {},
   "outputs": [],
   "source": [
    "# Dodanie wiersza z brakującymi danymi w celu uwzględnienia liczby wypadków bez przypisanej dzielnicy\n",
    "missing_count = Corrected_data_df[\"BOROUGH\"].isna().sum()\n",
    "print(f\"Liczba wypadków bez przypisanej dzielnicy: {missing_count}\")"
   ]
  },
  {
   "cell_type": "markdown",
   "id": "0cf6578e-d579-44d5-b469-db7e9823dfd1",
   "metadata": {},
   "source": [
    "### 🗨️ **2.1. Wizualizacja lokalizacji wypadków**"
   ]
  },
  {
   "cell_type": "markdown",
   "id": "1fccd4f2-2dbe-4cd6-9b49-1197db81844f",
   "metadata": {},
   "source": [
    "#### 2.1.1 Utworzenie GeoDataFrame z miejscami wypadków"
   ]
  },
  {
   "cell_type": "markdown",
   "id": "a125b819-302d-4ea5-b553-f5f66a0730d6",
   "metadata": {},
   "source": [
    "Wizualizacja miejsc wypadków na mapach została wykonana jedynie dla danych posiadających wartości w kolumnnach \"LATITUDE\" i \"LONGITUDE\""
   ]
  },
  {
   "cell_type": "code",
   "execution_count": null,
   "id": "802aa84c-f4a0-4e98-ae05-24bfd27603fa",
   "metadata": {},
   "outputs": [],
   "source": [
    "# Usunięcie wierszy bez współrzędnych\n",
    "Accidents_df = Corrected_data_df.dropna(subset=['LATITUDE', 'LONGITUDE']).copy()\n",
    "\n",
    "# Tworzenie geometrii punktów\n",
    "Accidents_geo_gdf = gpd.GeoDataFrame(\n",
    "    Accidents_df,\n",
    "    geometry=gpd.points_from_xy(Accidents_df['LONGITUDE'], Accidents_df['LATITUDE']),\n",
    "    crs='EPSG:4326'  # WGS84\n",
    ").to_crs(epsg=2263)  # konwersja do układu metrycznego"
   ]
  },
  {
   "cell_type": "markdown",
   "id": "3ed6d1ec-677b-47ea-afad-306dc47022f8",
   "metadata": {},
   "source": [
    "#### 2.1.2 Wczytanie granic dzielnic"
   ]
  },
  {
   "cell_type": "code",
   "execution_count": null,
   "id": "e982477e-6df3-42e0-96ff-6de254871526",
   "metadata": {},
   "outputs": [],
   "source": [
    "Boroughs_gdf = gpd.read_file(r\"Data/nybb_25a/nybb.shp\")"
   ]
  },
  {
   "cell_type": "code",
   "execution_count": null,
   "id": "24e0f6c2-a0d3-4eb4-847c-6ecdf745697c",
   "metadata": {},
   "outputs": [],
   "source": [
    "# print(Boroughs_metric_gdf.crs)"
   ]
  },
  {
   "cell_type": "markdown",
   "id": "6741d036-9059-4a4a-b623-6913158af6ef",
   "metadata": {},
   "source": [
    "#### 2.1.3 Przypisanie wypadków do najbliższej dzielnicy\n"
   ]
  },
  {
   "cell_type": "code",
   "execution_count": null,
   "id": "55a49193-64a9-4c1b-9529-d09842654f5e",
   "metadata": {},
   "outputs": [],
   "source": [
    "Accidents_with_borough_gdf = gpd.sjoin_nearest(\n",
    "    Accidents_geo_gdf,\n",
    "    Boroughs_gdf[['BoroName', 'geometry']],\n",
    "    how='left',\n",
    "    distance_col='distance_to_borough'\n",
    ")\n",
    "\n",
    "# Filtracja punktów nie dalej niż 1 km od dzielnicy\n",
    "Accidents_cleaned_gdf = Accidents_with_borough_gdf[\n",
    "    Accidents_with_borough_gdf['distance_to_borough'] <= 1000\n",
    "].copy()"
   ]
  },
  {
   "cell_type": "markdown",
   "id": "4b0bf20c-3ec4-4fc6-a9e4-bfea5277ffdc",
   "metadata": {},
   "source": [
    "#### 2.1.4 Mapa punktowa wypadków"
   ]
  },
  {
   "cell_type": "code",
   "execution_count": null,
   "id": "8203edba-0489-4ce7-b20f-71208a177ecf",
   "metadata": {},
   "outputs": [],
   "source": [
    "fig, ax = plt.subplots(figsize=(10, 10))\n",
    "Boroughs_gdf.boundary.plot(ax=ax, linewidth=1, edgecolor='gray')\n",
    "Accidents_cleaned_gdf.plot(\n",
    "    ax=ax, column='BoroName', cmap='Set1', markersize=1, alpha=0.4, legend=True\n",
    ")\n",
    "plt.title(\"Wypadki przypisane do dzielnic (EPSG:2263)\")\n",
    "plt.axis('off')\n",
    "plt.show()"
   ]
  },
  {
   "cell_type": "markdown",
   "id": "d21db24e-d21e-42e2-bf28-9f432365a17a",
   "metadata": {},
   "source": [
    "#### 2.1.5 Interaktywna mapa miejsc wypadków"
   ]
  },
  {
   "cell_type": "code",
   "execution_count": null,
   "id": "3e05d3d0-cbb0-43ea-b7a6-4248d91f1ff5",
   "metadata": {},
   "outputs": [],
   "source": [
    "# Konwersja CRS do WGS84\n",
    "Accidents_map_gdf = Accidents_cleaned_gdf.to_crs(epsg=4326)\n",
    "\n",
    "# Inicjalizacja mapy\n",
    "Map_nyc = folium.Map(location=[40.7128, -74.0060], zoom_start=11)\n",
    "Marker_cluster = MarkerCluster().add_to(Map_nyc)\n",
    "\n",
    "# Dodanie markerów\n",
    "for _, row in Accidents_map_gdf.sample(1000, random_state=42).iterrows():\n",
    "    folium.Marker(\n",
    "        location=[row.geometry.y, row.geometry.x],\n",
    "        popup=f\"id:{row['COLLISION_ID']} {row['ACCIDENT DATE']} - {row['BOROUGH']}\"\n",
    "    ).add_to(Marker_cluster)\n",
    "\n",
    "Map_nyc"
   ]
  },
  {
   "cell_type": "markdown",
   "id": "9f51d6f5-17bd-4106-a315-b5dbe24a1b8d",
   "metadata": {},
   "source": [
    "#### 2.1.6 Mapa cieplna (HeatMap) lokalizacji miejsc wypadków"
   ]
  },
  {
   "cell_type": "markdown",
   "id": "9858ac07-aef6-4b9e-b6f7-e28e5fab6479",
   "metadata": {},
   "source": [
    "Wizualna reprezentacja intensywności wystąpień wypadków na obszarze Nowego Jorku."
   ]
  },
  {
   "cell_type": "code",
   "execution_count": null,
   "id": "e3fafe2e-5646-425b-b21d-a73899c63bfc",
   "metadata": {},
   "outputs": [],
   "source": [
    "# Przygotowanie danych w WGS84\n",
    "Accidents_heatmap_gdf = Accidents_cleaned_gdf.to_crs(epsg=4326)\n",
    "\n",
    "# Próbkowanie (np. 5000 punktów)\n",
    "Heat_data = [[row.geometry.y, row.geometry.x] for _, row in Accidents_heatmap_gdf.sample(5000, random_state=1).iterrows()]\n",
    "\n",
    "# Inicjalizacja mapy\n",
    "Map_heat = folium.Map(location=[40.7128, -74.0060], zoom_start=11)\n",
    "\n",
    "# Płynny gradient: turkus → niebieski → biały (więcej przedziałów)\n",
    "HeatMap(\n",
    "    Heat_data,\n",
    "    radius=9,\n",
    "    blur=12,\n",
    "    gradient={\n",
    "        0.0: '#00ffff',   # jasny turkus\n",
    "        0.2: '#33ccff',   # niebieskawy turkus\n",
    "        0.4: '#3399ff',   # błękit\n",
    "        0.6: '#3366ff',   # niebieski\n",
    "        0.8: '#0000ff',   # ciemny niebieski\n",
    "        0.95: '#b0c4de',  # stalowy niebieski\n",
    "        1.0: '#ffffff'    # biały\n",
    "    }\n",
    ").add_to(Map_heat)\n",
    "\n",
    "Map_heat"
   ]
  },
  {
   "cell_type": "markdown",
   "id": "3ad94a18-bd35-43ea-836b-11fe670398a4",
   "metadata": {},
   "source": [
    "#### 📌 2.1.7 Najczęstsze miejsca wypadków"
   ]
  },
  {
   "cell_type": "code",
   "execution_count": null,
   "id": "eaef8d83-d77e-4d27-bf3b-8c8e1d8ae12c",
   "metadata": {},
   "outputs": [],
   "source": [
    "Top_locations_df = (\n",
    "    Accidents_cleaned_gdf\n",
    "    .groupby(['LATITUDE', 'LONGITUDE'])\n",
    "    .size()\n",
    "    .reset_index(name='Number_of_Accidents')\n",
    "    .sort_values(by='Number_of_Accidents', ascending=False)\n",
    "    .head(10)\n",
    ")\n",
    "\n",
    "Top_locations_df"
   ]
  },
  {
   "cell_type": "code",
   "execution_count": null,
   "id": "e1b8c0cb-5f64-42da-b4b2-4012b0ae553a",
   "metadata": {},
   "outputs": [],
   "source": [
    "# Łączenie nazw ulic dla lokalizacji skrzyżowań\n",
    "Accidents_cleaned_gdf['INTERSECTION'] = (\n",
    "    Accidents_cleaned_gdf['ON STREET NAME'].fillna('') + ' & ' +\n",
    "    Accidents_cleaned_gdf['CROSS STREET NAME'].fillna('')\n",
    ").str.strip(' &')\n",
    "\n",
    "Top_locations_sr = Accidents_cleaned_gdf['INTERSECTION'].value_counts().drop('', errors='ignore').head(10)\n",
    "\n",
    "# Poziomy wykres słupkowy\n",
    "Top_locations_sr.plot(kind='barh', color='slateblue', title='Top 10 lokalizacji wypadków (skrzyżowania)')\n",
    "plt.xlabel('Liczba wypadków')\n",
    "plt.gca().invert_yaxis()\n",
    "plt.tight_layout()\n",
    "plt.show()"
   ]
  },
  {
   "cell_type": "code",
   "execution_count": null,
   "id": "67ddcb34-73ff-4420-b098-e57d99e3a84b",
   "metadata": {},
   "outputs": [],
   "source": [
    "# Mapa miejsc, w których najczęście dochodziło do wypadków\n",
    "\n",
    "import folium\n",
    "from folium.plugins import MarkerCluster\n",
    "\n",
    "# Inicjalizacja mapy\n",
    "Map_top_locations = folium.Map(location=[40.7128, -74.0060], zoom_start=13)\n",
    "\n",
    "# Klaster do grupowania markerów (opcjonalnie, dla przejrzystości przy wielu punktach)\n",
    "marker_cluster = MarkerCluster().add_to(Map_top_locations)\n",
    "\n",
    "# Ustawienia kolorów w zależności od liczby wypadków\n",
    "def get_color(count):\n",
    "    if count >= 100:\n",
    "        return 'darkred'\n",
    "    elif count >= 80:\n",
    "        return 'red'\n",
    "    elif count >= 60:\n",
    "        return 'orange'\n",
    "    else:\n",
    "        return 'darkblue'\n",
    "\n",
    "# Dodanie znaczników\n",
    "for _, row in Top_locations_df.iterrows():\n",
    "    count = row['Number_of_Accidents']\n",
    "    color = get_color(count)\n",
    "    \n",
    "    folium.CircleMarker(\n",
    "        location=[row[\"LATITUDE\"], row[\"LONGITUDE\"]],\n",
    "        radius=5 + (count / 20),  # im więcej wypadków, tym większy znacznik\n",
    "        color=color,\n",
    "        fill=True,\n",
    "        fill_color=color,\n",
    "        fill_opacity=0.8,\n",
    "        tooltip=f\"{count} wypadków\\n({row['LATITUDE']:.5f}, {row['LONGITUDE']:.5f})\"\n",
    "    ).add_to(marker_cluster)\n",
    "    \n",
    "    # Etykieta tekstowa z liczbą\n",
    "    folium.map.Marker(\n",
    "        [row[\"LATITUDE\"], row[\"LONGITUDE\"]],\n",
    "        icon=folium.DivIcon(html=f\"\"\"\n",
    "            <div style=\"\n",
    "                font-size: 9pt;\n",
    "                color: white;\n",
    "                background: {color};\n",
    "                border-radius: 4px;\n",
    "                padding: 2px 4px;\n",
    "                text-align: center;\n",
    "                font-weight: bold;\n",
    "            \">\n",
    "                {count}\n",
    "            </div>\n",
    "        \"\"\")\n",
    "    ).add_to(Map_top_locations)\n",
    "\n",
    "Map_top_locations\n"
   ]
  },
  {
   "cell_type": "markdown",
   "id": "d8dd4674-7db2-4ab6-bcde-2660194a7c76",
   "metadata": {},
   "source": [
    "Liczba wypadków określa kolor, rozmiar oraz etykietę znacznika."
   ]
  },
  {
   "cell_type": "markdown",
   "id": "28d27604-2abf-402c-86e9-4fe043462615",
   "metadata": {},
   "source": [
    "#### 🏘️ 2.1.8 Porównanie dzielnic pod względem liczby wypadków"
   ]
  },
  {
   "cell_type": "markdown",
   "id": "3264f913-21d2-49e7-9fb2-a3b271c1bc61",
   "metadata": {},
   "source": [
    "##### 2.1.8.1. Porównanie wartości bezwzględnych"
   ]
  },
  {
   "cell_type": "code",
   "execution_count": null,
   "id": "04681500-c6dc-48d9-877b-9adc8898d30c",
   "metadata": {},
   "outputs": [],
   "source": [
    "# Zliczenie liczby wypadków w każdej dzielnicy\n",
    "Accidents_per_borough_sr = Corrected_data_df[\"BOROUGH\"].value_counts().sort_values(ascending=False)\n",
    "\n",
    "# Udział procentowy wypadków w dzielnicy w stosunku do liczby wszystkich wypadków w mieście\n",
    "Accidents_percent_sr = (Accidents_per_borough_sr / Accidents_per_borough_sr.sum() * 100).round(2)\n",
    "\n",
    "# Połączenie do tabeli (DataFrame)\n",
    "Accidents_stats_df = pd.DataFrame({\n",
    "    \"NUMBER OF ACCIDENTS\": Accidents_per_borough_sr,\n",
    "    \"PERCENT OF TOTAL\": Accidents_percent_sr.astype(str) + \"%\"\n",
    "})\n",
    "\n",
    "Accidents_stats_df"
   ]
  },
  {
   "cell_type": "code",
   "execution_count": null,
   "id": "662d42ae-f9ef-4ae3-a440-06cc1a37ff00",
   "metadata": {},
   "outputs": [],
   "source": [
    "# Wizualizacja statystyki liczby wypadków w podziale na dzielnice\n",
    "\n",
    "# Styl wykresu\n",
    "plt.style.use('seaborn-v0_8-muted')\n",
    "\n",
    "# Wykres słupkowy\n",
    "plt.figure(figsize=(8, 5))\n",
    "bars = plt.bar(\n",
    "    Accidents_stats_df.index,\n",
    "    Accidents_stats_df[\"NUMBER OF ACCIDENTS\"],\n",
    "    color='slateblue'\n",
    ")\n",
    "\n",
    "# Tytuł i osie\n",
    "plt.title(\"Liczba wypadków w dzielnicach Nowego Jorku\")\n",
    "plt.xlabel(\"Dzielnica\")\n",
    "plt.ylabel(\"Liczba wypadków\")\n",
    "plt.xticks(rotation=45)\n",
    "\n",
    "# Dodanie etykiet procentowych wewnątrz słupków\n",
    "for index, (value, percent) in enumerate(zip(\n",
    "    Accidents_stats_df[\"NUMBER OF ACCIDENTS\"],\n",
    "    Accidents_stats_df[\"PERCENT OF TOTAL\"]\n",
    ")):\n",
    "    plt.text(\n",
    "        index,\n",
    "        value * 0.5,  # pozycja mniej więcej w połowie słupka\n",
    "        percent,\n",
    "        ha='center',\n",
    "        va='center',\n",
    "        fontsize=9,\n",
    "        color='white',\n",
    "        fontweight='bold'\n",
    "    )\n",
    "\n",
    "plt.tight_layout()\n",
    "plt.show()"
   ]
  },
  {
   "cell_type": "markdown",
   "id": "7292ee9f-9583-4886-9a9d-347c8eeae452",
   "metadata": {},
   "source": [
    "##### 2.1.8.2. Porównanie wartości znormalizowanych względem powierzchni dzielnicy - liczby wypadków na km²"
   ]
  },
  {
   "cell_type": "code",
   "execution_count": null,
   "id": "956044b0-7c31-4a54-a8f0-1d7f5d514c6e",
   "metadata": {},
   "outputs": [],
   "source": [
    "# Znormalizowana liczba wypadków względem powierzchni dzielnic\n",
    "\n",
    "# 1. Upewnienie się, że kolumna z nazwą dzielnicy w GeoDataFrame zapisana jest wielkimi literami\n",
    "Boroughs_gdf[\"BOROUGH\"] = Boroughs_gdf[\"BoroName\"].str.upper()\n",
    "\n",
    "# 2. Przeliczenie powierzchnii z ft² na km² (1 ft² ≈ 0.092903 m², a więc / 1e6 na km²)\n",
    "Boroughs_gdf[\"AREA_KM2\"] = Boroughs_gdf[\"Shape_Area\"] * 0.092903 / 1_000_000\n",
    "\n",
    "# 3. Połączenie danych: złączenie DataFrame z powierzchnią i statystykami wypadków\n",
    "Accidents_with_area_df = Accidents_stats_df.merge(\n",
    "    Boroughs_gdf[[\"BOROUGH\", \"AREA_KM2\"]],\n",
    "    left_index=True,\n",
    "    right_on=\"BOROUGH\"\n",
    ")\n",
    "\n",
    "# 4. Obliczenie liczby wypadków na km²\n",
    "Accidents_with_area_df[\"ACCIDENTS PER KM²\"] = (\n",
    "    Accidents_with_area_df[\"NUMBER OF ACCIDENTS\"] / Accidents_with_area_df[\"AREA_KM2\"]\n",
    ").round(2)\n",
    "\n",
    "# 5. Posortowanie wyników\n",
    "Accidents_with_area_df.sort_values(\"ACCIDENTS PER KM²\", ascending=False, inplace=True)\n",
    "\n",
    "# 6. Wyświetlenie tabeli wynikowej\n",
    "Accidents_with_area_df[[\"BOROUGH\", \"NUMBER OF ACCIDENTS\", \"AREA_KM2\", \"ACCIDENTS PER KM²\"]].set_index(\"BOROUGH\")\n"
   ]
  },
  {
   "cell_type": "code",
   "execution_count": null,
   "id": "4af3aade-9a64-4881-b3fd-174657ba519d",
   "metadata": {},
   "outputs": [],
   "source": [
    "# Wizualizacja statystyki liczby wypadków przypadających na 1 km² w podziale na dzielnice\n",
    "\n",
    "# Styl\n",
    "plt.style.use('seaborn-v0_8-muted')\n",
    "\n",
    "# Wykres słupkowy\n",
    "plt.figure(figsize=(8, 5))\n",
    "bars = plt.bar(\n",
    "    Accidents_with_area_df[\"BOROUGH\"],\n",
    "    Accidents_with_area_df[\"ACCIDENTS PER KM²\"],\n",
    "    color='indianred'\n",
    ")\n",
    "\n",
    "# Tytuł i osie\n",
    "plt.title(\"Znormalizowana liczba wypadków na km² w dzielnicach Nowego Jorku\")\n",
    "plt.xlabel(\"Dzielnica\")\n",
    "plt.ylabel(\"Wypadki na km²\")\n",
    "plt.xticks(rotation=45)\n",
    "\n",
    "# Etykiety wartości wewnątrz słupków\n",
    "for index, value in enumerate(Accidents_with_area_df[\"ACCIDENTS PER KM²\"]):\n",
    "    plt.text(\n",
    "        index,\n",
    "        value * 0.5,  # połowa wysokości słupka\n",
    "        f\"{value:.1f}\",\n",
    "        ha='center',\n",
    "        va='center',\n",
    "        fontsize=9,\n",
    "        color='white',\n",
    "        fontweight='bold'\n",
    "    )\n",
    "\n",
    "plt.tight_layout()\n",
    "plt.show()\n"
   ]
  },
  {
   "cell_type": "markdown",
   "id": "287a2725-6e15-4327-9835-9b7ae9e00e98",
   "metadata": {},
   "source": [
    "## 🕒 **3. Analiza czasowa wypadków**\n",
    "\n",
    "---\n",
    "\n",
    "🕰️ **Podsumowanie**: Analiza czasowa wykazała wyraźne szczyty liczby wypadków w godzinach porannych i popołudniowych, a także zwiększone ryzyko w piątki."
   ]
  },
  {
   "cell_type": "code",
   "execution_count": null,
   "id": "6d93f187-a8c9-4e66-b681-17a2f5e99f47",
   "metadata": {},
   "outputs": [],
   "source": [
    "# Zakres dat (od najwcześniejszej do najpóźniejszej)\n",
    "\n",
    "pd.to_datetime(Corrected_data_df['ACCIDENT DATE'], errors='coerce')\n",
    "\n",
    "min_date = pd.to_datetime(Corrected_data_df['ACCIDENT DATE'], errors='coerce').min()\n",
    "max_date = pd.to_datetime(Corrected_data_df['ACCIDENT DATE'], errors='coerce').max()\n",
    "\n",
    "print(f\"Okres, którego dotyczą dane o wypadkach: od {min_date.date()} do {max_date.date()}\")"
   ]
  },
  {
   "cell_type": "markdown",
   "id": "617f352c-4755-481c-b30b-3f41a178ec15",
   "metadata": {},
   "source": [
    "### 📆 **3.1. Rozkład tygodniowy i dobowy**"
   ]
  },
  {
   "cell_type": "code",
   "execution_count": null,
   "id": "9492fbdb-2928-4ecc-a89f-0b02f6334eb3",
   "metadata": {},
   "outputs": [],
   "source": [
    "# Konwersja daty i czasu\n",
    "Corrected_data_df['DATETIME'] = pd.to_datetime(\n",
    "    Corrected_data_df['ACCIDENT DATE'].astype(str) + ' ' + Corrected_data_df['ACCIDENT TIME'].astype(str),\n",
    "    errors='coerce'\n",
    ")\n",
    "\n",
    "# Ekstrakcja godziny i dnia tygodnia\n",
    "Corrected_data_df['HOUR'] = Corrected_data_df['DATETIME'].dt.hour\n",
    "Corrected_data_df['DAY_OF_WEEK'] = Corrected_data_df['DATETIME'].dt.day_name()\n",
    "\n",
    "# Dni tygodnia (uporządkowane)\n",
    "day_order = ['Monday', 'Tuesday', 'Wednesday', 'Thursday', 'Friday', 'Saturday', 'Sunday']\n",
    "Accidents_per_day_sr = Corrected_data_df['DAY_OF_WEEK'].value_counts().reindex(day_order)\n",
    "\n",
    "# Wykres: dni tygodnia\n",
    "Accidents_per_day_sr.plot(kind='bar', color='slateblue', title='Wypadki wg dnia tygodnia')\n",
    "plt.ylabel('Liczba wypadków')\n",
    "plt.xlabel('')\n",
    "plt.xticks(rotation=45)\n",
    "plt.tight_layout()\n",
    "plt.show()\n",
    "\n",
    "# Wykres: godziny\n",
    "Accidents_per_hour_sr = Corrected_data_df['HOUR'].value_counts().sort_index()\n",
    "Accidents_per_hour_sr.plot(kind='bar', color='slateblue', title='Wypadki wg godziny dnia')\n",
    "plt.xlabel('Godzina')\n",
    "plt.ylabel('Liczba wypadków')\n",
    "plt.tight_layout()\n",
    "plt.show()"
   ]
  },
  {
   "cell_type": "markdown",
   "id": "913d0284-4605-4cf7-b7bb-c7d954d74df2",
   "metadata": {},
   "source": [
    "### 📊 **3.2. Trendy roczne i miesięczne liczby wypadków**"
   ]
  },
  {
   "cell_type": "code",
   "execution_count": null,
   "id": "3523d0a9-4b55-4619-90d8-b4440fcf4c87",
   "metadata": {},
   "outputs": [],
   "source": [
    "# Konwersja daty i czasu\n",
    "Corrected_data_df['DATETIME'] = pd.to_datetime(\n",
    "    Corrected_data_df['ACCIDENT DATE'].astype(str) + ' ' + Corrected_data_df['ACCIDENT TIME'].astype(str),\n",
    "    errors='coerce'\n",
    ")\n",
    "\n",
    "# Trendy roczne\n",
    "Corrected_data_df['YEAR'] = Corrected_data_df['DATETIME'].dt.year\n",
    "Accidents_per_year_sr = Corrected_data_df['YEAR'].value_counts().sort_index()\n",
    "Accidents_per_year_sr.plot(marker='o', color='slateblue', title='Liczba wypadków wg roku')\n",
    "plt.ylabel('Liczba wypadków')\n",
    "plt.xlabel('Rok')\n",
    "plt.grid(True)\n",
    "plt.tight_layout()\n",
    "plt.show()\n",
    "\n",
    "# Trendy miesięczne\n",
    "Corrected_data_df['MONTH'] = Corrected_data_df['DATETIME'].dt.to_period('M')\n",
    "Accidents_per_month_sr = Corrected_data_df['MONTH'].value_counts().sort_index()\n",
    "Accidents_per_month_sr.index = Accidents_per_month_sr.index.astype(str)\n",
    "Accidents_per_month_sr.plot(color='slateblue', title='Liczba wypadków wg miesiąca')\n",
    "plt.ylabel('Liczba wypadków')\n",
    "plt.xlabel('Miesiąc')\n",
    "plt.xticks(rotation=45)\n",
    "plt.tight_layout()\n",
    "plt.show()\n",
    "\n",
    "# Średnia liczba wypadków w ujęciu miesięcznym (niezależnie od roku)\n",
    "Corrected_data_df[\"MONTH_NUM\"] = Corrected_data_df[\"DATETIME\"].dt.month\n",
    "Corrected_data_df[\"MONTH_NAME\"] = Corrected_data_df[\"DATETIME\"].dt.month_name()\n",
    "\n",
    "monthly_counts_df = (\n",
    "    Corrected_data_df\n",
    "    .groupby([\"YEAR\", \"MONTH_NUM\", \"MONTH_NAME\"])\n",
    "    .size()\n",
    "    .reset_index(name=\"Accident count\")\n",
    ")\n",
    "\n",
    "mean_monthly_accidents_df = (\n",
    "    monthly_counts_df\n",
    "    .groupby([\"MONTH_NUM\", \"MONTH_NAME\"])[\"Accident count\"]\n",
    "    .mean()\n",
    "    .round(0)\n",
    "    .sort_index()\n",
    "    .reset_index()\n",
    ")\n",
    "\n",
    "plt.figure(figsize=(10, 6))\n",
    "plt.bar(\n",
    "    mean_monthly_accidents_df[\"MONTH_NAME\"],\n",
    "    mean_monthly_accidents_df[\"Accident count\"],\n",
    "    color=\"slateblue\"\n",
    ")\n",
    "plt.title(\"Średnia liczba wypadków w Nowym Jorku – wg miesięcy\")\n",
    "plt.ylabel(\"Średnia liczba wypadków\")\n",
    "plt.xlabel(\"Miesiąc\")\n",
    "plt.xticks(rotation=45)\n",
    "plt.grid(axis=\"y\", linestyle=\"--\", alpha=0.5)\n",
    "plt.tight_layout()\n",
    "plt.show()"
   ]
  },
  {
   "cell_type": "markdown",
   "id": "1d38185c-ebd8-42a2-9583-d966247c8e83",
   "metadata": {},
   "source": [
    "## 🚗 **4. Analiza typów pojazdów biorących udział w wypadkach**\n",
    "---\n",
    "\n",
    "⚠️ **Podsumowanie**: W 2/3 wypadków uczestniczyły pojazdy osobowe, a w 1/4 suwy."
   ]
  },
  {
   "cell_type": "markdown",
   "id": "0cc7fc49-434a-4642-95a5-958cefbce01f",
   "metadata": {},
   "source": [
    "Sekcja obejmuje analizę, jakie typy pojazdów najczęściej brały udział w wypadkach. Dane zostały oczyszczone i skategoryzowane do głównych grup (np. PASSENGER VEHICLE, SUV, TRUCK, itp.). \r\n",
    "Wykres przedstawia liczbę i procentowy udział każdej kategorii."
   ]
  },
  {
   "cell_type": "code",
   "execution_count": null,
   "id": "ad0c61f7-5a95-45d4-962b-572c93133767",
   "metadata": {},
   "outputs": [],
   "source": [
    "# Kolumny z typami pojazdów, które uczestniczyły w wypadkach\n",
    "Vehicle_columns = [\n",
    "    'VEHICLE TYPE CODE 1', 'VEHICLE TYPE CODE 2',\n",
    "    'VEHICLE TYPE CODE 3', 'VEHICLE TYPE CODE 4', 'VEHICLE TYPE CODE 5'\n",
    "]"
   ]
  },
  {
   "cell_type": "code",
   "execution_count": null,
   "id": "5a1c09b6-7808-479d-aad3-f11f9bd2462a",
   "metadata": {},
   "outputs": [],
   "source": [
    "print(\"Liczba unikalnych typów pojazdów w danych:\", len(Unique_vehicle_types_sr))"
   ]
  },
  {
   "cell_type": "code",
   "execution_count": null,
   "id": "5ecdd4be-291a-47a3-8661-80b2b073f2fb",
   "metadata": {},
   "outputs": [],
   "source": [
    "# Mapa normalizująca typy pojazdów\n",
    "Reverse_vehicle_map = {\n",
    "    # PASSENGER VEHICLE\n",
    "    \"SEDAN\": \"PASSENGER VEHICLE\", \"4DSD\": \"PASSENGER VEHICLE\", \"TAXI\": \"PASSENGER VEHICLE\",\n",
    "    \"LIVERY\": \"PASSENGER VEHICLE\", \"COUPE\": \"PASSENGER VEHICLE\", \"CONVERTIBLE\": \"PASSENGER VEHICLE\",\n",
    "    \"HATCHBACK\": \"PASSENGER VEHICLE\", \"2 DR SEDAN\": \"PASSENGER VEHICLE\", \"4 DR SEDAN\"\n",
    "    \"TLC\": \"PASSENGER VEHICLE\", \"GOLF\": \"PASSENGER VEHICLE\", \"PASSENGER VEHICLE\": \"PASSENGER VEHICLE\",\n",
    "\n",
    "    # SUV\n",
    "    \"SUV\": \"SUV\", \"SPORT UTILITY / STATION WAGON\": \"SUV\", \"S.U.V.\": \"SUV\", \"S/U V\": \"SUV\",\n",
    "\n",
    "    # LIGHT TRUCK\n",
    "    \"PICK-UP TRUCK\": \"LIGHT TRUCK\", \"PICKUP TRUCK\": \"LIGHT TRUCK\", \"PICK UP TRUCK\": \"LIGHT TRUCK\",\n",
    "    \"P/U\": \"LIGHT TRUCK\", \"PICK\": \"LIGHT TRUCK\", \"PICK-\": \"LIGHT TRUCK\", \"PICKU\": \"LIGHT TRUCK\",\n",
    "    \"PK\": \"LIGHT TRUCK\", \"PKUP\": \"LIGHT TRUCK\",\n",
    "\n",
    "    # VAN\n",
    "    \"VAN\": \"VAN\", \"CARGO VAN\": \"VAN\", \"MINIVAN\": \"VAN\", \"MINI VAN\": \"VAN\", \"MINIV\": \"VAN\", \"LUNCH WAGON\": \"VAN\",\n",
    "    \"C/V\": \"VAN\", \"VAN/TRUCK\": \"VAN\", \"MINI-VAN\": \"VAN\", \"M/V\": \"VAN\",\"VAN (\": \"VAN\", \"VAN A\": \"VAN\", \"VAN C\": \"VAN\",\n",
    "    \"VAN CAMPER\": \"VAN\", \"VAN F\": \"VAN\", \"VAN T\": \"VAN\", \"VAN W\": \"VAN\", \"VAN/T\": \"VAN\",\n",
    "\n",
    "    # TRUCK\n",
    "    \"BOX TRUCK\": \"TRUCK\", \"TRACTOR TRUCK\": \"TRUCK\", \"TRUCK\": \"TRUCK\", \"FLATBED\": \"TRUCK\",\n",
    "    \"DUMP\": \"TRUCK\", \"MACK\": \"TRUCK\", \"MAC T\": \"TRUCK\", \"MULTI-WHEELED VEHICLE\": \"TRUCK\",\n",
    "    \"TRACTOR\": \"TRUCK\", \"18 WHEELER\" \"DELIVERY TRUCK\": \"TRUCK\", \"BEVERAGE TRUCK\": \"TRUCK\",\n",
    "    \"TRAC\": \"TRUCK\", \"TOW TRUCK\": \"TRUCK\", \"TOW TRUCK / WRECKER\": \"TRUCK\", \"TRAC\": \"TRUCK\",\n",
    "    \"TRAC.\": \"TRUCK\", \"TRACK\": \"TRUCK\", \"TRACT\": \"TRUCK\", \"TRACTOR TRUCK DIESEL\": \"TRUCK\",\n",
    "    \"TRACTOR TRUCK GASOLINE\": \"TRUCK\",\n",
    "\n",
    "    # BUS\n",
    "    \"BUS\": \"BUS\", \"SCHOOL BUS\": \"BUS\", \"COMMERCIAL BUS\": \"BUS\", \"INTERCITY BUS\": \"BUS\",\n",
    "    \"TOUR BUS\": \"BUS\", \"CHARTER BUS\": \"BUS\",\n",
    "\n",
    "    # MOTORCYCLE\n",
    "    \"MOTORCYCLE\": \"MOTORCYCLE\", \"SCOOTER\": \"MOTORCYCLE\", \"MOTORSCOOTER\": \"MOTORCYCLE\",\n",
    "    \"MOPED\": \"MOTORCYCLE\", \"MO-PE\": \"MOTORCYCLE\", \"MOPAD\": \"MOTORCYCLE\", \"MOPET\": \"MOTORCYCLE\",\n",
    "    \"MOTORBIKE\": \"MOTORCYCLE\", \"E-SCOOTER\": \"MOTORCYCLE\", \"MC\": \"MOTORCYCLE\", \"M/C\": \"MOTORCYCLE\",\n",
    "\n",
    "    # BICYCLE\n",
    "    \"BICYCLE\": \"BICYCLE\", \"BIKE\": \"BICYCLE\", \"E-BIKE\": \"BICYCLE\", \"E-BICYCLE\": \"BICYCLE\",\n",
    "    \"MINIBIKE\": \"BICYCLE\", \"MINICYCLE\" \"ELECTRIC BIKE\": \"BICYCLE\", \"BICYC\"\n",
    "    \"EBIKE\": \"BICYCLE\", \"E- BI\": \"BICYCLE\", \"E-BIK\": \"BICYCLE\", \"E/BIK\": \"BICYCLE\",\n",
    "\n",
    "    # EMERGENCY\n",
    "    \"AMBULANCE\": \"EMERGENCY\", \"FIRE TRUCK\": \"EMERGENCY\", \"FIRET\": \"EMERGENCY\",\n",
    "    \"FDNY\": \"EMERGENCY\", \"EMERGENCY VEHICLE\": \"EMERGENCY\", \"EMS\": \"EMERGENCY\",\n",
    "    \"AMABU\": \"EMERGENCY\", \"AMBU\": \"EMERGENCY\", \"AMBUL\": \"EMERGENCY\", \"ANBUL\": \"EMERGENCY\",\n",
    "\n",
    "    # OTHER\n",
    "    \"MOTOR HOME\": \"OTHER\", \"MOTORIZED HOME\": \"OTHER\", \"MAIL\": \"OTHER\", \"MTA\": \"OTHER\",\n",
    "    \"NYC D\": \"OTHER\", \"NYC M\": \"OTHER\", \"LTR\": \"OTHER\", \"CEME\": \"OTHER\", \"ME/BE\": \"OTHER\",\n",
    "    \"MAN L\": \"OTHER\", \"U-HAUL\": \"OTHER\", \"UTILITY\": \"OTHER\", \"UTILITY TRAILER\": \"OTHER\",\n",
    "    \"POSTAL\": \"OTHER\",\n",
    "\n",
    "    # Do odfiltrowania\n",
    "    \"UNKNOWN\": None, \"UNKOWN\": None, \"\": None, \"N/A\": None, None: None\n",
    "}"
   ]
  },
  {
   "cell_type": "code",
   "execution_count": null,
   "id": "d4af4941-c47f-4aaf-8299-2491fe3dc0f5",
   "metadata": {},
   "outputs": [],
   "source": [
    "# Lista wartości do odrzucenia\n",
    "Excluded_values = {\n",
    "    \"\", \"UNKNOWN\", \"UNKOWN\", \"OTHER\", \"N/A\", None,\n",
    "    \"0\", \"00\", \"1\", \"11 PA\", \"2015\", \"985\", \"C/O\"\n",
    "}\n",
    "\n",
    "# Czyszczenie danych i kategoryzacja\n",
    "Cleaned_vehicles_sr = pd.concat([\n",
    "    Corrected_data_df[col]\n",
    "    .dropna()\n",
    "    .str.upper()\n",
    "    .map(Reverse_vehicle_map)\n",
    "    for col in Vehicle_columns\n",
    "])\n",
    "\n",
    "# Filtrowanie nieistotnych\n",
    "Cleaned_vehicles_sr = Cleaned_vehicles_sr[~Cleaned_vehicles_sr.isin(Excluded_values)]\n",
    "\n",
    "# Zliczenie i procenty\n",
    "Vehicle_counts_sr = Cleaned_vehicles_sr.value_counts()\n",
    "Vehicle_percentages_sr = (Vehicle_counts_sr / Vehicle_counts_sr.sum() * 100).round(1)\n",
    "\n",
    "# Wykres słupkowy z procentami wewnątrz\n",
    "plt.figure(figsize=(10, 6))\n",
    "bars = plt.barh(\n",
    "    Vehicle_counts_sr.index[::-1],\n",
    "    Vehicle_counts_sr.values[::-1],\n",
    "    color='slateblue'\n",
    ")\n",
    "\n",
    "# Dodanie etykiet procentowych do środka słupków\n",
    "for bar, percent in zip(bars, Vehicle_percentages_sr.values[::-1]):\n",
    "    width = bar.get_width()\n",
    "    plt.text(width / 2, bar.get_y() + bar.get_height() / 2,\n",
    "             f\"{percent:.1f}%\", ha='center', va='center', color='white', fontsize=9)\n",
    "\n",
    "plt.title(\"Typy pojazdów biorących udział w wypadkach\")\n",
    "plt.xlabel(\"Liczba wypadków\")\n",
    "plt.ylabel(\"Typ pojazdu\")\n",
    "plt.grid(axis='x', linestyle='--', alpha=0.6)\n",
    "plt.tight_layout()\n",
    "plt.show()"
   ]
  },
  {
   "cell_type": "markdown",
   "id": "b9c08b2a-de1f-4085-9966-c847223321d8",
   "metadata": {},
   "source": [
    "## ⚠️ **5. Analiza przyczyn i skutków wypadków**\n",
    "\n",
    "---\n",
    "\n",
    "⚠️ **Podsumowanie**: Nieuwaga kierowców i nieprzestrzeganie przepisów to dominujące przyczyny wypadków, z dużym udziałem ofiar."
   ]
  },
  {
   "cell_type": "markdown",
   "id": "eea230a6-7bc7-43d7-a473-3903bbf63f10",
   "metadata": {},
   "source": [
    "### 📄 **5.1 Wszystkie przyczyny wypadków występujące w danych**"
   ]
  },
  {
   "cell_type": "code",
   "execution_count": null,
   "id": "d0040b30-8eee-4d07-80cb-6949187fc8c8",
   "metadata": {},
   "outputs": [],
   "source": [
    "# Ramka danych z przyczynami wypadków\n",
    "Accidents_factors_df  = Corrected_data_df[[\"BOROUGH\",#\"COLLISION_ID\",\n",
    "                                          \"CONTRIBUTING FACTOR VEHICLE 1\",\n",
    "                                          \"CONTRIBUTING FACTOR VEHICLE 2\",\n",
    "                                          \"CONTRIBUTING FACTOR VEHICLE 3\",\n",
    "                                          \"CONTRIBUTING FACTOR VEHICLE 4\",\n",
    "                                          \"CONTRIBUTING FACTOR VEHICLE 5\"\n",
    "                                         ]]\n",
    "Accidents_factors_df.head(3)"
   ]
  },
  {
   "cell_type": "code",
   "execution_count": null,
   "id": "c266def4-6d90-4f07-b068-0bc88a9d1e2f",
   "metadata": {},
   "outputs": [],
   "source": [
    "# Ujednolicenie pustych wartości\n",
    "Accidents_factors_df = Accidents_factors_df.fillna('-')"
   ]
  },
  {
   "cell_type": "code",
   "execution_count": null,
   "id": "3fc12bec-ca67-44bc-8ca4-c91c18ef0efe",
   "metadata": {},
   "outputs": [],
   "source": [
    "Accidents_factors_df.head(3)"
   ]
  },
  {
   "cell_type": "code",
   "execution_count": null,
   "id": "d76a1ba6-7698-4c8c-b8d0-92a216a3917a",
   "metadata": {},
   "outputs": [],
   "source": [
    "# Utworzenie jednej serii danych z liczbą wypadków dla każdej przyczyny\n",
    "Accidents_factors_sr = pd.concat([Accidents_factors_df['CONTRIBUTING FACTOR VEHICLE 1'],\n",
    "                                 Accidents_factors_df['CONTRIBUTING FACTOR VEHICLE 2'],\n",
    "                                 Accidents_factors_df['CONTRIBUTING FACTOR VEHICLE 3'],\n",
    "                                 Accidents_factors_df['CONTRIBUTING FACTOR VEHICLE 4'],\n",
    "                                 Accidents_factors_df['CONTRIBUTING FACTOR VEHICLE 5']\n",
    "                                ], axis=0, ignore_index=True)"
   ]
  },
  {
   "cell_type": "code",
   "execution_count": null,
   "id": "6c7ddad3-1403-42fb-8452-4d10f4552f75",
   "metadata": {},
   "outputs": [],
   "source": [
    "Accidents_factors_sr.shape"
   ]
  },
  {
   "cell_type": "code",
   "execution_count": null,
   "id": "c758f594-2679-44d7-8a16-2f985517e361",
   "metadata": {},
   "outputs": [],
   "source": [
    "Accidents_factors_sr.head()"
   ]
  },
  {
   "cell_type": "code",
   "execution_count": null,
   "id": "63a147ce-9882-4aa0-92d9-3eb1cadb1daf",
   "metadata": {},
   "outputs": [],
   "source": [
    "# Sprawdzenie czy nie ma brakujących danych\n",
    "Accidents_factors_sr.isnull().sum()"
   ]
  },
  {
   "cell_type": "code",
   "execution_count": null,
   "id": "a612b226-78e7-478d-95c7-0ef96c00a505",
   "metadata": {},
   "outputs": [],
   "source": [
    "# Liczba przyczyn wypadków\n",
    "len(Accidents_factors_sr.unique())"
   ]
  },
  {
   "cell_type": "code",
   "execution_count": null,
   "id": "47fcb501-214f-45bb-8dda-6d0799f57d18",
   "metadata": {},
   "outputs": [],
   "source": [
    "import matplotlib.pyplot as plt\n",
    "\n",
    "# Usunięcie nieokreślonych wartości\n",
    "filtered_factors_sr = Accidents_factors_sr[\n",
    "    ~Accidents_factors_sr.str.upper().isin(['UNSPECIFIED', '-'])\n",
    "]\n",
    "\n",
    "# Zliczenie i odwrócenie kolejności\n",
    "accident_factors_count_sr = filtered_factors_sr.value_counts().iloc[::-1]\n",
    "\n",
    "# Rozmiar wykresu zależny od liczby kategorii\n",
    "num_categories = len(accident_factors_count_sr)\n",
    "plt.figure(figsize=(10, max(6, num_categories * 0.25)))\n",
    "\n",
    "# Wykres słupkowy poziomy\n",
    "bars = plt.barh(\n",
    "    accident_factors_count_sr.index,\n",
    "    accident_factors_count_sr.values,\n",
    "    color='slateblue'\n",
    ")\n",
    "\n",
    "# Dodanie etykiet liczbowych\n",
    "for bar in bars:\n",
    "    width = bar.get_width()\n",
    "    plt.text(width + max(accident_factors_count_sr.values) * 0.005,\n",
    "             bar.get_y() + bar.get_height() / 2,\n",
    "             f'{int(width)}',\n",
    "             va='center', fontsize=8)\n",
    "\n",
    "# Podpisy i formatowanie\n",
    "plt.xlabel(\"Liczba wystąpień\")\n",
    "plt.title(\"Wszystkie przyczyny wypadków\")\n",
    "plt.tight_layout()\n",
    "plt.show()"
   ]
  },
  {
   "cell_type": "markdown",
   "id": "b5b0335a-0708-48cd-aba0-d2547f376f08",
   "metadata": {},
   "source": [
    "### 🧷 **5.2 Kategorie wypadków**"
   ]
  },
  {
   "cell_type": "code",
   "execution_count": null,
   "id": "5488b03d-27f2-4a5e-bb25-59fb9244149c",
   "metadata": {},
   "outputs": [],
   "source": [
    "# Utworzenie ramki danych na przyczyny wypadków\n",
    "Category_of_accident_factors_df = Accidents_factors_sr.value_counts(dropna = False).to_frame(\"Number of occurrences\").reset_index(names = \"Factor\")\n",
    "Category_of_accident_factors_df.head()"
   ]
  },
  {
   "cell_type": "code",
   "execution_count": null,
   "id": "08493c43-2b54-4884-a70e-e21efde4a02d",
   "metadata": {},
   "outputs": [],
   "source": [
    "# Dodanie kolumny na zbiorcze kategorie przyczyn wypadków\n",
    "Category_of_accident_factors_df.insert(loc=0, column=\"Category\", value=\"\")"
   ]
  },
  {
   "cell_type": "markdown",
   "id": "92ae49d4-c75b-44e3-a7df-5193791d6f9e",
   "metadata": {},
   "source": [
    "#### 5.2.1 Nieokreślone przyczyny wypadków"
   ]
  },
  {
   "cell_type": "code",
   "execution_count": null,
   "id": "0faecf4e-6345-49be-bdd9-0eafaaeaf2b5",
   "metadata": {},
   "outputs": [],
   "source": [
    "unspecified_ls = [\"Unspecified\", \"-\", \"1\", \"80\"] # po czyszczeniu danych powinny zostać tylko \"Unspecified\" i \"-\"\n",
    "Category_of_accident_factors_df[Category_of_accident_factors_df[\"Factor\"].isin(unspecified_ls)]"
   ]
  },
  {
   "cell_type": "code",
   "execution_count": null,
   "id": "1d9cf883-0aa0-4ed7-9127-78fa9f771ee4",
   "metadata": {},
   "outputs": [],
   "source": [
    "# połączenie wartości oznaczonych jako brak (-) z wartościami nieokreślonymi (\"Unspecified\") w jedną kategorię \"Unspecified\"\n",
    "Category_of_accident_factors_df.loc[Category_of_accident_factors_df[\"Factor\"].isin([\"Unspecified\", \"-\"]), \"Category\"] = \"Unspecified\"\n",
    "Category_of_accident_factors_df[Category_of_accident_factors_df[\"Factor\"].isin([\"Unspecified\", \"-\"])]"
   ]
  },
  {
   "cell_type": "markdown",
   "id": "ddacd693-d2fa-4364-84a4-df13eab719b4",
   "metadata": {},
   "source": [
    "#### 5.2.2 Przyczyny leżące po stronie kierowcy"
   ]
  },
  {
   "cell_type": "code",
   "execution_count": null,
   "id": "2774385b-a109-425d-ba82-f38c39e0e14d",
   "metadata": {},
   "outputs": [],
   "source": [
    "# Lista przyczyn leżących po stronie kierowcy\n",
    "driver_ls = ['Passing Too Closely', 'Driver Inattention/Distraction','Unsafe Speed', 'Reaction to Uninvolved Vehicle', 'Following Too Closely',\n",
    "             'Passing or Lane Usage Improper', 'Unsafe Lane Changing', 'Aggressive Driving/Road Rage', 'Turning Improperly',\n",
    "             'Failure to Yield Right-of-Way', 'Backing Unsafely', 'Drugs (illegal)', 'Drugs (Illegal)', 'Traffic Control Disregarded',\n",
    "             'Failure to Keep Right', 'Alcohol Involvement', 'Driver Inexperience', 'Using On Board Navigation Device', 'Lost Consciousness',\n",
    "             'Fatigued/Drowsy', 'Illnes', 'Fell Asleep', 'Physical Disability', 'Prescription Medication', 'Cell Phone (hand-Held)',\n",
    "             'Cell Phone (hand-held)', 'Cell Phone (hands-free)', 'Listening/Using Headphones', 'Other Electronic Device', 'Eating or Drinking',\n",
    "             'Texting', 'Illness']\n",
    "# Liczba przyczyn w kategorii\n",
    "print(\"Liczba przyczyn wypadków leżących po stronie kierowcy:\", len(driver_ls))"
   ]
  },
  {
   "cell_type": "code",
   "execution_count": null,
   "id": "8e1a6f4c-6f17-4ce6-9757-48a1dd26ded1",
   "metadata": {},
   "outputs": [],
   "source": [
    "# Uzupełnienei kolumny z kategorią\n",
    "Category_of_accident_factors_df.loc[Category_of_accident_factors_df[\"Factor\"].isin(driver_ls), \"Category\"] = \"Driver\"\n",
    "Category_of_accident_factors_df[Category_of_accident_factors_df[\"Factor\"].isin(driver_ls)]"
   ]
  },
  {
   "cell_type": "markdown",
   "id": "dab2b16a-8fea-475c-8e2d-8fab6fe8e2c5",
   "metadata": {},
   "source": [
    "#### 5.2.3 Stan pojazdu"
   ]
  },
  {
   "cell_type": "code",
   "execution_count": null,
   "id": "ee154f91-69c7-46f3-b4e5-6bc34bfa5c2b",
   "metadata": {},
   "outputs": [],
   "source": [
    "# Lista przyczyn związanych ze stanem pojazdu\n",
    "vehicle_ls = ['Driverless/Runaway Vehicle', 'Brakes Defective', 'Tire Failure/Inadequate', 'Oversized Vehicle', 'Steering Failure',\n",
    "              'Accelerator Defective', 'Tow Hitch Defective', 'Vehicle Vandalism', 'Tinted Windows', 'Windshield Inadequate', 'Headlights Defective']\n",
    "# Liczba przyczyn w kategorii\n",
    "print(\"Liczba przyczyn wypadków wynikających ze stanu pojazdu:\", len(vehicle_ls))"
   ]
  },
  {
   "cell_type": "code",
   "execution_count": null,
   "id": "86095052-181f-4b90-9a28-6160f4d1bfdd",
   "metadata": {},
   "outputs": [],
   "source": [
    "# Uzupełnienei kolumny z kategorią\n",
    "Category_of_accident_factors_df.loc[Category_of_accident_factors_df[\"Factor\"].isin(vehicle_ls), \"Category\"] = \"Vehicle\"\n",
    "Category_of_accident_factors_df[Category_of_accident_factors_df[\"Factor\"].isin(vehicle_ls)]"
   ]
  },
  {
   "cell_type": "markdown",
   "id": "b76a1c5b-8357-40f8-b2f9-cddc733f7fd8",
   "metadata": {},
   "source": [
    "#### 5.2.4 Stan ulicy i pasa drogowego"
   ]
  },
  {
   "cell_type": "code",
   "execution_count": null,
   "id": "16450306-40be-44fd-8cc2-8e5a3486c97c",
   "metadata": {},
   "outputs": [],
   "source": [
    "# Lista przyczyn związanych ze stanem uliczy i pasa drogowego\n",
    "street_ls = ['View Obstructed/Limited', 'Pavement Defective', 'Lane Marking Improper/Inadequate', 'Obstruction/Debris', 'Pavement Slippery',\n",
    "             'Other Lighting Defects', 'Traffic Control Device Improper/Non-Working', 'Shoulders Defective/Improper']\n",
    "# Liczba przyczyn w kategorii\n",
    "print(\"Liczba przyczyn wypadków wynikających ze stanu drogi:\", len(street_ls))"
   ]
  },
  {
   "cell_type": "code",
   "execution_count": null,
   "id": "3df8b023-5081-4bd1-a3cb-f172be7e2711",
   "metadata": {},
   "outputs": [],
   "source": [
    "# Uzupełnienie kolumny z kategorią\n",
    "Category_of_accident_factors_df.loc[Category_of_accident_factors_df[\"Factor\"].isin(street_ls), \"Category\"] = \"Street\"\n",
    "Category_of_accident_factors_df[Category_of_accident_factors_df[\"Factor\"].isin(street_ls)]"
   ]
  },
  {
   "cell_type": "markdown",
   "id": "9bbc854c-d7c8-4169-90f5-5936e69b07d7",
   "metadata": {},
   "source": [
    "#### 5.2.5 Inne czynniki zewnętrzne, niezależne od kierowcy, pojazdu i ulicy"
   ]
  },
  {
   "cell_type": "code",
   "execution_count": null,
   "id": "9fd0e923-93ff-49f1-8ec1-732319dad4a4",
   "metadata": {},
   "outputs": [],
   "source": [
    "# Lista przyczyn zewnętrznych\n",
    "external_ls = ['Other Vehicular', 'Outside Car Distraction', 'Pedestrian/Bicyclist/Other Pedestrian Error/Confusion', 'Passenger Distraction',\n",
    "               'Glare', 'Animals Action', 'Reaction to Other Uninvolved Vehicle']\n",
    "# Liczba przyczyn w kategorii\n",
    "print(\"Liczba zewnętrznych przyczyn wypadków, niezależnych od kierowcy:\", len(external_ls))"
   ]
  },
  {
   "cell_type": "code",
   "execution_count": null,
   "id": "39907fb2-5549-4e33-94d0-5703c74ec835",
   "metadata": {},
   "outputs": [],
   "source": [
    "# Uzupełnienie kolumny z kategorią\n",
    "Category_of_accident_factors_df.loc[Category_of_accident_factors_df[\"Factor\"].isin(external_ls), \"Category\"] = \"External\"\n",
    "Category_of_accident_factors_df[Category_of_accident_factors_df[\"Factor\"].isin(external_ls)]"
   ]
  },
  {
   "cell_type": "markdown",
   "id": "7ab36211-3f2b-433c-999b-d3f1324ed50f",
   "metadata": {},
   "source": [
    "#### 5.2.6 Wystąpienia przyczyn wypadków w podziale na kategorie"
   ]
  },
  {
   "cell_type": "code",
   "execution_count": null,
   "id": "8dd997db-8794-4c0f-b29a-96367e685b1f",
   "metadata": {},
   "outputs": [],
   "source": [
    "# Sumowanie wypadków wg kategorii\n",
    "Total_accidents_for_the_category_df = (\n",
    "    Category_of_accident_factors_df\n",
    "    .groupby(\"Category\")[\"Number of occurrences\"]\n",
    "    .sum()\n",
    "    .sort_values(ascending=False)\n",
    "    .to_frame()\n",
    ")\n",
    "\n",
    "# Usunięcie kategorii 'Unspecified'\n",
    "Total_accidents_for_the_category_df = Total_accidents_for_the_category_df[\n",
    "    Total_accidents_for_the_category_df.index != \"Unspecified\"\n",
    "]\n",
    "\n",
    "# Obliczenie udziału procentowego\n",
    "total = Total_accidents_for_the_category_df[\"Number of occurrences\"].sum()\n",
    "Total_accidents_for_the_category_df[\"PERCENT\"] = (\n",
    "    (Total_accidents_for_the_category_df[\"Number of occurrences\"] / total) * 100\n",
    ").round(1)\n",
    "\n",
    "Total_accidents_for_the_category_df"
   ]
  },
  {
   "cell_type": "markdown",
   "id": "9118396a-3fae-4d9f-88c9-4e1a3c525c1c",
   "metadata": {},
   "source": [
    "**Znaczenie kategorii:**\n",
    "* Driver - przyczyny leżące po stronie kierowcy\n",
    "* External - przyczyny zewnętrzne\n",
    "* Street - przyczyny wynikające ze stanu ulicy i pasa drogowego\n",
    "* Vehicle - przyczyny wynikające ze stanu pojazdu"
   ]
  },
  {
   "cell_type": "code",
   "execution_count": null,
   "id": "d4050d2c-d1ce-4bea-ab25-75bcc84eb497",
   "metadata": {},
   "outputs": [],
   "source": [
    "# Wykres słupkowy (pionowy) wizualizujący statystykę odnotowanych przyczyn wypadków w podziale na kategorie zbiorcze\n",
    "plt.figure(figsize=(10, 6))\n",
    "bars = plt.bar(\n",
    "    Total_accidents_for_the_category_df.index,\n",
    "    Total_accidents_for_the_category_df[\"Number of occurrences\"],\n",
    "    color='slateblue'\n",
    ")\n",
    "\n",
    "# Dodanie wartości procentowych do wnętrza słupków\n",
    "for bar, percent in zip(bars, Total_accidents_for_the_category_df[\"PERCENT\"]):\n",
    "    height = bar.get_height()\n",
    "    plt.text(\n",
    "        bar.get_x() + bar.get_width() / 2,\n",
    "        height / 2,  # umieszczone w środku słupka\n",
    "        f\"{percent}%\",\n",
    "        ha='center',\n",
    "        va='center',\n",
    "        color='white',\n",
    "        fontsize=9,\n",
    "        fontweight='bold'\n",
    "    )\n",
    "\n",
    "# Ustawienia wykresu\n",
    "plt.title(\"Liczba wypadków wg kategorii przyczyn\", fontsize=13)\n",
    "plt.xlabel(\"Kategoria przyczyny\")\n",
    "plt.ylabel(\"Liczba wypadków\")\n",
    "plt.xticks(rotation=45, ha='right')\n",
    "plt.tight_layout()\n",
    "plt.show()\n"
   ]
  },
  {
   "cell_type": "markdown",
   "id": "5f7c5687-f33a-4a5b-ba04-8a2489bed21c",
   "metadata": {},
   "source": [
    "#### 5.2.7 Lista przyczyn wypadków w podziale na kategorie"
   ]
  },
  {
   "cell_type": "code",
   "execution_count": null,
   "id": "a7476793-4431-4bfd-9460-a56735d6ba1e",
   "metadata": {},
   "outputs": [],
   "source": [
    "# Filtrowanie – bez kategorii 'Unspecified'\n",
    "Filtered_df = Category_of_accident_factors_df[Category_of_accident_factors_df[\"Category\"] != \"Unspecified\"].copy()\n",
    "\n",
    "# Suma wystąpień w każdej kategorii (dla filtrowanych danych)\n",
    "category_totals_sr = Filtered_df.groupby(\"Category\")[\"Number of occurrences\"].transform(\"sum\")\n",
    "\n",
    "# Całkowita liczba wszystkich wystąpień (bez 'Unspecified')\n",
    "total_occurrences = Filtered_df[\"Number of occurrences\"].sum()\n",
    "\n",
    "# Procent w ramach kategorii\n",
    "Filtered_df[\"PERCENT_IN_CATEGORY\"] = (\n",
    "    (Filtered_df[\"Number of occurrences\"] / category_totals_sr) * 100\n",
    ").round(1)\n",
    "\n",
    "# Procent w całkowitej liczbie\n",
    "Filtered_df[\"PERCENT_TOTAL\"] = (\n",
    "    (Filtered_df[\"Number of occurrences\"] / total_occurrences) * 100\n",
    ").round(1)\n",
    "\n",
    "# Filtrowanie – bez kategorii 'Unspecified'\n",
    "Filtered_df = Category_of_accident_factors_df[Category_of_accident_factors_df[\"Category\"] != \"Unspecified\"].copy()\n",
    "\n",
    "# Suma wystąpień w każdej kategorii (dla filtrowanych danych)\n",
    "category_totals_sr = Filtered_df.groupby(\"Category\")[\"Number of occurrences\"].transform(\"sum\")\n",
    "\n",
    "# Całkowita liczba wszystkich wystąpień (bez 'Unspecified')\n",
    "total_occurrences = Filtered_df[\"Number of occurrences\"].sum()\n",
    "\n",
    "# Procent w ramach kategorii\n",
    "Filtered_df[\"PERCENT_IN_CATEGORY\"] = (\n",
    "    (Filtered_df[\"Number of occurrences\"] / category_totals_sr) * 100\n",
    ").round(1)\n",
    "\n",
    "# Procent w całkowitej liczbie\n",
    "Filtered_df[\"PERCENT_TOTAL\"] = (\n",
    "    (Filtered_df[\"Number of occurrences\"] / total_occurrences) * 100\n",
    ").round(1)\n",
    "Filtered_df"
   ]
  },
  {
   "cell_type": "code",
   "execution_count": null,
   "id": "50b4a435-3bc5-4673-ad66-c2acfb115858",
   "metadata": {},
   "outputs": [],
   "source": [
    "# Wykres dla przyczyn leżących po stronie kierowcy\n",
    "\n",
    "# Iteracja po unikalnych kategoriach\n",
    "for category in Filtered_df[\"Category\"].unique():\n",
    "    # Filtr danych dla danej kategorii\n",
    "    Subset_df = Filtered_df[Filtered_df[\"Category\"] == category].copy()\n",
    "    Subset_df.sort_values(\"Number of occurrences\", ascending=True, inplace=True)\n",
    "\n",
    "    # Tworzenie wykresu\n",
    "    plt.figure(figsize=(10, max(4, 0.4 * len(Subset_df))))\n",
    "    bars = plt.barh(\n",
    "        Subset_df[\"Factor\"],\n",
    "        Subset_df[\"Number of occurrences\"],\n",
    "        color=\"slateblue\"\n",
    "    )\n",
    "\n",
    "    # Dodanie etykiet procentowych\n",
    "    for bar, percent in zip(bars, Subset_df[\"PERCENT_TOTAL\"]):\n",
    "        plt.text(\n",
    "            bar.get_width() + 50,\n",
    "            bar.get_y() + bar.get_height() / 2,\n",
    "            f\"{percent:.1f}%\",\n",
    "            va=\"center\",\n",
    "            fontsize=8\n",
    "        )\n",
    "\n",
    "    # Tytuł i opisy\n",
    "    plt.title(f\"Wypadki wg przyczyn – {category}\", fontsize=14)\n",
    "    plt.xlabel(\"Liczba wypadków\")\n",
    "    plt.ylabel(\"Przyczyna\")\n",
    "    plt.grid(axis=\"x\", linestyle=\"--\", alpha=0.5)\n",
    "    plt.tight_layout()\n",
    "\n",
    "    # Wyświetlenie wykresu\n",
    "    plt.show()\n"
   ]
  },
  {
   "cell_type": "markdown",
   "id": "617f893b-3bd3-44df-9f88-d790e3ec2ace",
   "metadata": {},
   "source": [
    "### 💥 **5.3 Skutki wypadków**"
   ]
  },
  {
   "cell_type": "markdown",
   "id": "02f80dff-3c8f-4212-adda-27c45fa1a2a3",
   "metadata": {},
   "source": [
    "Przygotowanie danych do dalszych analiz dotyczących liczby ofiar wypadków spowodowanych wskazanymi przyczynami"
   ]
  },
  {
   "cell_type": "code",
   "execution_count": null,
   "id": "777dc08d-44e0-4344-a8fe-ccb28eb4daab",
   "metadata": {},
   "outputs": [],
   "source": [
    "# Połączenie danych o zabitych ze wszystkich (pięciu) kolumn określających przyczyny leżące po stronie pierwszego, drugiego itd. aż do piątego pojazdu\n",
    "Factors_df_1 = Corrected_data_df[[\"BOROUGH\", \"CONTRIBUTING FACTOR VEHICLE 1\", \"NUMBER OF PERSONS KILLED\", \"NUMBER OF PERSONS INJURED\"]].dropna()\n",
    "Factors_df_1.columns = [\"BOROUGH\", \"CONTRIBUTING FACTOR VEHICLE\", \"NUMBER OF PERSONS KILLED\", \"NUMBER OF PERSONS INJURED\"]\n",
    "\n",
    "Factors_df_2 = Corrected_data_df[[\"BOROUGH\", \"CONTRIBUTING FACTOR VEHICLE 2\", \"NUMBER OF PERSONS KILLED\", \"NUMBER OF PERSONS INJURED\"]].dropna()\n",
    "Factors_df_2.columns = [\"BOROUGH\", \"CONTRIBUTING FACTOR VEHICLE\", \"NUMBER OF PERSONS KILLED\", \"NUMBER OF PERSONS INJURED\"]\n",
    "\n",
    "Factors_df_3 = Corrected_data_df[[\"BOROUGH\", \"CONTRIBUTING FACTOR VEHICLE 3\", \"NUMBER OF PERSONS KILLED\", \"NUMBER OF PERSONS INJURED\"]].dropna()\n",
    "Factors_df_3.columns = [\"BOROUGH\", \"CONTRIBUTING FACTOR VEHICLE\", \"NUMBER OF PERSONS KILLED\", \"NUMBER OF PERSONS INJURED\"]\n",
    "\n",
    "Factors_df_4 = Corrected_data_df[[\"BOROUGH\", \"CONTRIBUTING FACTOR VEHICLE 4\", \"NUMBER OF PERSONS KILLED\", \"NUMBER OF PERSONS INJURED\"]].dropna()\n",
    "Factors_df_4.columns = [\"BOROUGH\", \"CONTRIBUTING FACTOR VEHICLE\", \"NUMBER OF PERSONS KILLED\", \"NUMBER OF PERSONS INJURED\"]\n",
    "\n",
    "Factors_df_5 = Corrected_data_df[[\"BOROUGH\", \"CONTRIBUTING FACTOR VEHICLE 5\", \"NUMBER OF PERSONS KILLED\", \"NUMBER OF PERSONS INJURED\"]].dropna()\n",
    "Factors_df_5.columns = [\"BOROUGH\", \"CONTRIBUTING FACTOR VEHICLE\", \"NUMBER OF PERSONS KILLED\", \"NUMBER OF PERSONS INJURED\"]\n",
    "\n",
    "# Połączenie danych z wszystkich kolumn\n",
    "Factors_df = pd.concat([Factors_df_1,Factors_df_2,Factors_df_3,Factors_df_4,Factors_df_5], ignore_index=True, axis=0)\n",
    "\n",
    "# Zamiana typu danych na liczby całkowite\n",
    "Factors_df[\"NUMBER OF PERSONS KILLED\"] = pd.to_numeric(Factors_df[\"NUMBER OF PERSONS KILLED\"], errors='coerce').astype('Int64') # int\n",
    "Factors_df[\"NUMBER OF PERSONS INJURED\"] = pd.to_numeric(Factors_df[\"NUMBER OF PERSONS INJURED\"], errors='coerce').astype('Int64') # int\n",
    "\n",
    "# Tylko wypadki, dla których określono przyczynę - nie jest brana pod uwagę wartość Unspecified dla przyczyn wypadków\n",
    "Factors_df = Factors_df[Factors_df[\"CONTRIBUTING FACTOR VEHICLE\"] != \"Unspecified\"]\n",
    "\n",
    "Factors_df.sort_values([\"NUMBER OF PERSONS KILLED\", \"NUMBER OF PERSONS INJURED\"], ascending = [False, False]).head()"
   ]
  },
  {
   "cell_type": "markdown",
   "id": "39e19070-a55b-47c9-83ee-5ba8b3c821a9",
   "metadata": {},
   "source": [
    "### 🔁 **5.4 Najczęstsze przyczyny wypadków**"
   ]
  },
  {
   "cell_type": "markdown",
   "id": "ca5202ba-ba45-48be-850e-dfad0ecb32f4",
   "metadata": {},
   "source": [
    "#### 5.4.1 Trzy najczęstsze przyczyny wypadków w Nowym Jorku"
   ]
  },
  {
   "cell_type": "code",
   "execution_count": null,
   "id": "a9375dd4-df74-4a5b-95fb-c38af3d0500e",
   "metadata": {},
   "outputs": [],
   "source": [
    "# Trzy najczęstsze przyczyny wypadków w całym mieście\n",
    "Category_of_accident_factors_df.loc[Category_of_accident_factors_df[\"Category\"] !=\n",
    "\"Unspecified\"].sort_values(\"Number of occurrences\", ascending = False).head(3).reset_index(drop=True).set_index(\"Factor\")"
   ]
  },
  {
   "cell_type": "code",
   "execution_count": null,
   "id": "74b3a761-7c1b-4acc-851a-ebc66c42b75c",
   "metadata": {},
   "outputs": [],
   "source": [
    "import matplotlib.pyplot as plt\n",
    "\n",
    "# Przygotowanie danych: top 3 kategorie (bez \"Unspecified\"), sortowane malejąco\n",
    "top3_factors_df = (\n",
    "    Category_of_accident_factors_df\n",
    "    .loc[Category_of_accident_factors_df[\"Category\"] != \"Unspecified\"]\n",
    "    .sort_values(\"Number of occurrences\", ascending=False)\n",
    "    .head(3)\n",
    "    .reset_index(drop=True)\n",
    "    .set_index(\"Factor\")\n",
    ")\n",
    "\n",
    "# Wykres\n",
    "plt.figure(figsize=(8, 5))\n",
    "top3_factors_df[\"Number of occurrences\"].plot(\n",
    "    kind='bar',\n",
    "    color='slateblue',\n",
    "    edgecolor='black'\n",
    ")\n",
    "\n",
    "plt.title(\"Trzy najczęstsze przyczyny wypadków\", fontsize=14)\n",
    "plt.ylabel(\"Liczba wystąpień\")\n",
    "plt.xlabel(\"Kategoria czynnika\")\n",
    "plt.xticks(rotation=45, ha='right')\n",
    "plt.grid(axis='y', linestyle='--', alpha=0.7)\n",
    "plt.tight_layout()\n",
    "plt.show()\n"
   ]
  },
  {
   "cell_type": "code",
   "execution_count": null,
   "id": "0afd09da-2a87-41e9-a541-e008a7f3e302",
   "metadata": {},
   "outputs": [],
   "source": [
    "Category_of_accident_factors_df"
   ]
  },
  {
   "cell_type": "markdown",
   "id": "e1bb826e-41e0-4c59-b87d-ff02953f7530",
   "metadata": {},
   "source": [
    "#### 5.4.2 Trzy najczęstsze przyczyny wypadków w każdej z dzielnic Nowego Jorku"
   ]
  },
  {
   "cell_type": "code",
   "execution_count": null,
   "id": "dda148a5-b6e5-42a9-8a83-e4c7ec9e3b29",
   "metadata": {},
   "outputs": [],
   "source": [
    "# Trzy najczęstsze przyczyny wypadków w podziale na dzielnice\n",
    "Top_3_factors_in_borough_df = Factors_df.groupby([\"BOROUGH\", \"CONTRIBUTING FACTOR VEHICLE\"]).size().reset_index(name=\"COUNT OF ACCIDENTS\").sort_values([\"BOROUGH\", \"COUNT OF ACCIDENTS\"], ascending=[True, False]).groupby('BOROUGH').head(3)\n",
    "Top_3_factors_in_borough_df.set_index(\"BOROUGH\")"
   ]
  },
  {
   "cell_type": "code",
   "execution_count": null,
   "id": "f781d301-429a-458b-bae2-d5dec7dbe1af",
   "metadata": {},
   "outputs": [],
   "source": [
    "# Wizualizacja 3 najczęstszych przyczyn wypadków w podziale na dzielnice\n",
    "\n",
    "# Paleta kolorów\n",
    "custom_colors = [\n",
    "    \"#6A5ACD\",  # slateblue\n",
    "    \"#4682B4\",  # steelblue\n",
    "    \"#4169E1\",  # royalblue\n",
    "    \"#9370DB\",  # mediumpurple\n",
    "    \"#5F9EA0\",  # cadetblue\n",
    "    \"#7B68EE\",  # mediumslateblue\n",
    "    \"#6495ED\",  # cornflowerblue\n",
    "    \"#8A2BE2\",  # blueviolet\n",
    "    \"#708090\"   # slategray\n",
    "]\n",
    "\n",
    "# Ustalenie unikalnych przyczyn\n",
    "unique_factors = Top_3_factors_in_borough_df[\"CONTRIBUTING FACTOR VEHICLE\"].unique()\n",
    "\n",
    "# Dopasowanie palety (cyklicznie, jeśli jest więcej czynników niż kolorów)\n",
    "custom_palette = dict(zip(unique_factors, custom_colors[:len(unique_factors)]))\n",
    "\n",
    "# Wykres\n",
    "plt.figure(figsize=(12, 6))\n",
    "sns.barplot(\n",
    "    data=Top_3_factors_in_borough_df,\n",
    "    x=\"BOROUGH\",\n",
    "    y=\"COUNT OF ACCIDENTS\",\n",
    "    hue=\"CONTRIBUTING FACTOR VEHICLE\",\n",
    "    palette=custom_palette\n",
    ")\n",
    "\n",
    "plt.title(\"3 najczęstsze czynniki przyczyniające się do wypadków w każdej dzielnicy\")\n",
    "plt.xlabel(\"Dzielnica\")\n",
    "plt.ylabel(\"Liczba wypadków\")\n",
    "plt.legend(title=\"Czynnik przyczynowy\", bbox_to_anchor=(1.05, 1), loc='upper left')\n",
    "plt.xticks(rotation=0)\n",
    "plt.tight_layout()\n",
    "plt.show()\n"
   ]
  },
  {
   "cell_type": "markdown",
   "id": "e216fe2c-606a-4fcc-9ab5-efb83cdf4cf4",
   "metadata": {},
   "source": [
    "#### 5.4.3 Dziesięc najczęstszych przyczyn wypadków w Nowym Jorku"
   ]
  },
  {
   "cell_type": "code",
   "execution_count": null,
   "id": "85aab92f-2486-4b82-98aa-bd06268cfd13",
   "metadata": {},
   "outputs": [],
   "source": [
    "Factor_columns = [\n",
    "    'CONTRIBUTING FACTOR VEHICLE 1', 'CONTRIBUTING FACTOR VEHICLE 2',\n",
    "    'CONTRIBUTING FACTOR VEHICLE 3', 'CONTRIBUTING FACTOR VEHICLE 4',\n",
    "    'CONTRIBUTING FACTOR VEHICLE 5'\n",
    "]\n",
    "\n",
    "# Wartości do wykluczenia\n",
    "Excluded_factors = {\"\", \"UNSPECIFIED\", \"OTHER\", \"UNKNOWN\", \"UNKNOW\"}\n",
    "\n",
    "# Łączenie i czyszczenie przyczyn wypadków\n",
    "All_factors_sr = pd.concat([\n",
    "    Accidents_cleaned_gdf[col].dropna().str.upper().loc[\n",
    "        lambda x: ~x.isin(Excluded_factors)\n",
    "    ]\n",
    "    for col in Factor_columns\n",
    "])\n",
    "\n",
    "# Top 10 przyczyn\n",
    "Top_factors_sr = All_factors_sr.value_counts().head(10)\n",
    "\n",
    "# Wykres poziomy z największymi wartościami na górze\n",
    "Top_factors_sr.iloc[::-1].plot(\n",
    "    kind='barh',\n",
    "    color='slateblue',\n",
    "    title='Top 10 przyczyn wypadków'\n",
    ")\n",
    "plt.xlabel('Liczba wypadków')\n",
    "plt.tight_layout()\n",
    "plt.show()"
   ]
  },
  {
   "cell_type": "markdown",
   "id": "4ab0f1c8-ce5f-4d7d-8b34-bb7c08ab1018",
   "metadata": {},
   "source": [
    "### 💀 **5.5 Przyczyny najniebezpieczniejszych wypadków**"
   ]
  },
  {
   "cell_type": "markdown",
   "id": "98a2118f-22c2-464c-b0e6-24847c807770",
   "metadata": {},
   "source": [
    "Należy ocenić \"groźność wypadków\" związanych z poszczególnymi przyczynami.\n",
    "W analizie poniżej zostało to wykonane w dwóch podejściach:\n",
    "1. poprzez zsumowanie liczby ofiar (zabitych i rannych) dla każdej przyczyny,\n",
    "2. tylko z uwzględnieniem liczby osób, które zginęły w wypadkach,\n",
    "\n",
    "dla któych wyniki zestawiono poniżej."
   ]
  },
  {
   "cell_type": "code",
   "execution_count": null,
   "id": "9de8dad9-6e44-4f55-8c16-d6f21dbad591",
   "metadata": {},
   "outputs": [],
   "source": [
    "#df.groupby([\"BOROUGH\", \"CONTRIBUTING FACTOR VEHICLE\"])[\"NUMBER OF PERSONS KILLED\"].sum().sort_values([\"BOROUGH\", \"CONTRIBUTING FACTOR VEHICLE\"],ascending=[True, False])"
   ]
  },
  {
   "cell_type": "markdown",
   "id": "697c5f0e-ed19-48f5-8aeb-4f84e3b88289",
   "metadata": {},
   "source": [
    "#### 5.5.1 Trzy główne przyczyny najgroźniejszych wypadków w Nowym Jorku"
   ]
  },
  {
   "cell_type": "markdown",
   "id": "a5eb0403-c589-4c6f-b084-15a561edfc37",
   "metadata": {},
   "source": [
    "##### 5.5.1.1 Uwzględnienie liczby zabitych i rannych"
   ]
  },
  {
   "cell_type": "code",
   "execution_count": null,
   "id": "18e0dd71-836a-4845-8791-b97e400e4ce2",
   "metadata": {},
   "outputs": [],
   "source": [
    "# Dodanie nowej kolumny z całkowitą liczbą ofiar (zabici + ranni)\n",
    "Factors_df[\"TOTAL VICTIMS\"] = Factors_df[\"NUMBER OF PERSONS KILLED\"] + Factors_df[\"NUMBER OF PERSONS INJURED\"]\n",
    "\n",
    "# Zgrupowanie po przyczynie wypadku i zsumowanie liczby ofiar\n",
    "grouped = Factors_df.groupby(\"CONTRIBUTING FACTOR VEHICLE\")[\"TOTAL VICTIMS\"].sum()\n",
    "\n",
    "# Posortowanie malejąco i wybranie trzech najważniejszych przyczyn\n",
    "Top_3_factors_of_most_dangerous_accidents_sr = grouped.sort_values(ascending=False).head(3)\n",
    "\n",
    "Top_3_factors_of_most_dangerous_accidents_df = pd.DataFrame(Top_3_factors_of_most_dangerous_accidents_sr)\n",
    "Top_3_factors_of_most_dangerous_accidents_df"
   ]
  },
  {
   "cell_type": "code",
   "execution_count": null,
   "id": "160ad07a-4bc5-469f-8d70-b2f6d0ec2a94",
   "metadata": {},
   "outputs": [],
   "source": [
    "# Wykres pionowy dla 3 głównych przyczyn najbardziej niebezpiecznych wypadków\n",
    "Top_3_factors_of_most_dangerous_accidents_sr.plot(\n",
    "    kind=\"bar\",\n",
    "    color=\"slateblue\",\n",
    "    title=\"Top 3 najbardziej niebezpieczne czynniki przyczyniające się do wypadków (liczba ofiar)\"\n",
    ")\n",
    "\n",
    "# Opis osi\n",
    "plt.ylabel(\"Liczba ofiar (zabici + ranni)\")\n",
    "plt.xlabel(\"Przyczyna\")\n",
    "plt.grid(axis=\"y\", linestyle=\"--\", alpha=0.5)\n",
    "plt.xticks(rotation=45, ha='right')  # rotacja etykiet\n",
    "plt.tight_layout()\n",
    "plt.show()"
   ]
  },
  {
   "cell_type": "markdown",
   "id": "dcb4c0ab-d076-4b84-ae15-d7ebdf707af2",
   "metadata": {},
   "source": [
    "##### 5.5.1.2 Uwzględnienie tylko liczby zabitych jako wskazanie na najgroźniejsze wypadki"
   ]
  },
  {
   "cell_type": "code",
   "execution_count": null,
   "id": "9a033546-db71-4be5-9fb1-9e62b7b8d322",
   "metadata": {},
   "outputs": [],
   "source": [
    "Top_3_factors_of_most_dangerous_accidents_df = (\n",
    "    Factors_df.groupby('CONTRIBUTING FACTOR VEHICLE')['NUMBER OF PERSONS KILLED']\n",
    "      .sum()\n",
    "      .reset_index()\n",
    "      .sort_values('NUMBER OF PERSONS KILLED', ascending=False)\n",
    "      .head(3)\n",
    ")\n",
    "\n",
    "# Najbardziej śmiertelna przyczyna (jedna)\n",
    "Top_3_factors_of_most_dangerous_accidents_df.set_index(\"CONTRIBUTING FACTOR VEHICLE\")"
   ]
  },
  {
   "cell_type": "code",
   "execution_count": null,
   "id": "6500eec9-a646-4666-80d0-390440b27081",
   "metadata": {},
   "outputs": [],
   "source": [
    "# Wykres pionowy\n",
    "Top_3_factors_of_most_dangerous_accidents_sr.plot(\n",
    "    kind=\"bar\",\n",
    "    color=\"slateblue\",\n",
    "    title=\"Top 3 czynniki przyczyniające się do największej liczby ofiar śmiertelnych\"\n",
    ")\n",
    "\n",
    "# Opis osi\n",
    "plt.ylabel(\"Liczba ofiar śmiertelnych\")\n",
    "plt.xlabel(\"Przyczyna\")\n",
    "plt.grid(axis=\"y\", linestyle=\"--\", alpha=0.5)\n",
    "plt.xticks(rotation=45, ha='right')  # rotacja etykiet\n",
    "plt.tight_layout()\n",
    "plt.show()\n"
   ]
  },
  {
   "cell_type": "markdown",
   "id": "d5b69e67-2e49-44c0-ad93-c0d7c3e383f9",
   "metadata": {},
   "source": [
    "#### 5.5.2 Przyczyny najniebezpieczniejszych wypadków w każdej z dzielnic Nowego Jorku"
   ]
  },
  {
   "cell_type": "markdown",
   "id": "ed9abbba-b91c-441f-ac56-e0a774de704f",
   "metadata": {},
   "source": [
    "Za najgroźniejsze wypadki zostały uznane te, w których zginęło najwięcej osób. W analizie zostały wskazane pyrzyczyny, które spowodowały wypadki, w wyniku których zginęło łącznie najwięcej osób."
   ]
  },
  {
   "cell_type": "code",
   "execution_count": null,
   "id": "01addcdb-7034-4de4-95b4-66c1c259e529",
   "metadata": {},
   "outputs": [],
   "source": [
    "Top_3_factors_of_most_dangerous_accidents_in_borough_df = (\n",
    "    Factors_df.groupby(['BOROUGH', 'CONTRIBUTING FACTOR VEHICLE'])['NUMBER OF PERSONS KILLED']\n",
    "      .sum()\n",
    "      .reset_index()\n",
    ")\n",
    "\n",
    "# wybór dla każdej dzielnicy przyczyny, która spowodowała wypadki z największą liczbą zabitych\n",
    "Top_3_factors_of_most_dangerous_accidents_in_borough_df = Top_3_factors_of_most_dangerous_accidents_in_borough_df.sort_values(['BOROUGH', 'NUMBER OF PERSONS KILLED'], ascending=[True, False])\n",
    "Top_3_factors_of_most_dangerous_accidents_in_borough_df = Top_3_factors_of_most_dangerous_accidents_in_borough_df.groupby('BOROUGH').head(3)\n",
    "Top_3_factors_of_most_dangerous_accidents_in_borough_df.set_index(\"BOROUGH\")"
   ]
  },
  {
   "cell_type": "code",
   "execution_count": null,
   "id": "bdc85148-5149-4b8b-a9ab-5da8fbc9301d",
   "metadata": {},
   "outputs": [],
   "source": [
    "# Wizualizacja 3 przyczyn najniebezpieczniejszych wypadków w podziale na dzielnice\n",
    "\n",
    "# Paleta kolorów\n",
    "custom_colors = [\n",
    "    \"#6A5ACD\",  # slateblue\n",
    "    \"#4682B4\",  # steelblue\n",
    "    \"#4169E1\",  # royalblue\n",
    "    \"#9370DB\",  # mediumpurple\n",
    "    \"#5F9EA0\",  # cadetblue\n",
    "    \"#7B68EE\",  # mediumslateblue\n",
    "    \"#6495ED\",  # cornflowerblue\n",
    "    \"#8A2BE2\",  # blueviolet\n",
    "    \"#708090\"   # slategray\n",
    "]\n",
    "\n",
    "# Ustalenie unikalnych czynników\n",
    "unique_factors = Top_3_factors_of_most_dangerous_accidents_in_borough_df[\"CONTRIBUTING FACTOR VEHICLE\"].unique()\n",
    "\n",
    "# Dopasowanie palety (cyklicznie, jeśli jest więcej czynników niż kolorów)\n",
    "custom_palette = dict(zip(unique_factors, custom_colors[:len(unique_factors)]))\n",
    "\n",
    "# Wykres\n",
    "plt.figure(figsize=(12, 6))\n",
    "sns.barplot(\n",
    "    data=Top_3_factors_of_most_dangerous_accidents_in_borough_df,\n",
    "    x=\"BOROUGH\",\n",
    "    y=\"NUMBER OF PERSONS KILLED\",\n",
    "    hue=\"CONTRIBUTING FACTOR VEHICLE\",\n",
    "    palette=custom_palette\n",
    ")\n",
    "\n",
    "plt.title(\"3 czynniki przyczyniające się do największej liczby ofiar śmiertelnych w każdej dzielnicy\")\n",
    "plt.xlabel(\"Dzielnica\")\n",
    "plt.ylabel(\"Liczba ofiar śmiertelnych\")\n",
    "plt.legend(title=\"Czynnik przyczynowy\", bbox_to_anchor=(1.05, 1), loc='upper left')\n",
    "plt.xticks(rotation=0)\n",
    "plt.tight_layout()\n",
    "plt.show()"
   ]
  },
  {
   "cell_type": "markdown",
   "id": "3332c531-cf07-4a17-b131-dbb6df6dbeb3",
   "metadata": {},
   "source": [
    "#### 5.5.3 Liczba zgonów oraz obrażeń spowodowanych przez szybką jazdę w danej dzielnicy"
   ]
  },
  {
   "cell_type": "code",
   "execution_count": null,
   "id": "9cb3758e-225b-4ce7-bb1c-2939b36c907a",
   "metadata": {},
   "outputs": [],
   "source": [
    "# Przygotowanie danych\n",
    "\n",
    "# Lista przyczyn niebezpiecznej jazdy\n",
    "#Dangerous_factors_ls = [\"Unsafe Speed\", \"Aggressive Driving/Road Rage\"]\n",
    "Dangerous_factors_ls = [\"Unsafe Speed\"]\n",
    "\n",
    "# Sumy ofiar w każdej dzielnicy – wszystkie przyczyny\n",
    "Total_victims_df = Factors_df.groupby(\"BOROUGH\")[[\"NUMBER OF PERSONS KILLED\", \"NUMBER OF PERSONS INJURED\"]].sum()\n",
    "\n",
    "# Filtrowanie niebezpiecznych przyczyn\n",
    "Dangerous_victims_df = Factors_df[Factors_df[\"CONTRIBUTING FACTOR VEHICLE\"].isin(Dangerous_factors_ls)]\n",
    "Dangerous_victims_df = Dangerous_victims_df.groupby(\"BOROUGH\")[[\"NUMBER OF PERSONS KILLED\", \"NUMBER OF PERSONS INJURED\"]].sum()\n",
    "\n",
    "# Główny DataFrame wynikowy\n",
    "Consequences_of_unsafe_speeds_df = Dangerous_victims_df.copy()\n",
    "\n",
    "# Obliczenie procentów (Series)\n",
    "Percent_killed_sr = (Dangerous_victims_df[\"NUMBER OF PERSONS KILLED\"] / Total_victims_df[\"NUMBER OF PERSONS KILLED\"] * 100).round(2)\n",
    "Percent_injured_sr = (Dangerous_victims_df[\"NUMBER OF PERSONS INJURED\"] / Total_victims_df[\"NUMBER OF PERSONS INJURED\"] * 100).round(2)\n",
    "\n",
    "# Dodanie ich do DataFrame\n",
    "Consequences_of_unsafe_speeds_df[\"PERCENT_KILLED\"] = Percent_killed_sr\n",
    "Consequences_of_unsafe_speeds_df[\"PERCENT_INJURED\"] = Percent_injured_sr\n",
    "\n",
    "# Formatowanie do tekstu: liczba (procent)\n",
    "Consequences_of_unsafe_speeds_df[\"KILLED (PERCENT)\"] = (\n",
    "    Dangerous_victims_df[\"NUMBER OF PERSONS KILLED\"].astype(int).astype(str) +\n",
    "    \" (\" + Percent_killed_sr.astype(str) + \"%)\"\n",
    ")\n",
    "\n",
    "Consequences_of_unsafe_speeds_df[\"INJURED (PERCENT)\"] = (\n",
    "    Dangerous_victims_df[\"NUMBER OF PERSONS INJURED\"].astype(int).astype(str) +\n",
    "    \" (\" + Percent_injured_sr.astype(str) + \"%)\"\n",
    ")\n",
    "\n",
    "# Do prezentacji\n",
    "Formatted_consequences_df = Consequences_of_unsafe_speeds_df[[\n",
    "    \"KILLED (PERCENT)\",\n",
    "    \"INJURED (PERCENT)\"\n",
    "]]\n",
    "\n",
    "Formatted_consequences_df"
   ]
  },
  {
   "cell_type": "code",
   "execution_count": null,
   "id": "abc18c99-2787-466a-ad8b-5355307f4b6a",
   "metadata": {},
   "outputs": [],
   "source": [
    "# Wykres z wartościami procentowymi i liczbowymi\n",
    "\n",
    "# Przygotowanie danych\n",
    "Boroughs_ls = Consequences_of_unsafe_speeds_df.index.tolist()\n",
    "x_pos = np.arange(len(Boroughs_ls))\n",
    "bar_width = 0.35\n",
    "\n",
    "# Liczby\n",
    "Killed_counts_sr = Dangerous_victims_df[\"NUMBER OF PERSONS KILLED\"]\n",
    "Injured_counts_sr = Dangerous_victims_df[\"NUMBER OF PERSONS INJURED\"]\n",
    "\n",
    "# Procenty\n",
    "Percent_killed_sr = Consequences_of_unsafe_speeds_df[\"PERCENT_KILLED\"]\n",
    "Percent_injured_sr = Consequences_of_unsafe_speeds_df[\"PERCENT_INJURED\"]\n",
    "\n",
    "# Wykres\n",
    "fig, ax = plt.subplots(figsize=(12, 6))\n",
    "\n",
    "bars_killed = ax.bar(x_pos - bar_width/2, Percent_killed_sr, width=bar_width,\n",
    "                     label=\"Zabici (%)\", color=\"#7f7f7f\")  # szary\n",
    "\n",
    "bars_injured = ax.bar(x_pos + bar_width/2, Percent_injured_sr, width=bar_width,\n",
    "                      label=\"Ranni (%)\", color=\"#5b9bd5\")  # stonowany niebieski\n",
    "\n",
    "# Etykiety: liczba wewnątrz, procent nad\n",
    "def add_labels(bars, counts_sr):\n",
    "    for i, bar in enumerate(bars):\n",
    "        height = bar.get_height()\n",
    "        count = counts_sr.iloc[i]\n",
    "        # Wewnątrz\n",
    "        if height >= 5:\n",
    "            ax.text(bar.get_x() + bar.get_width() / 2, height / 2, f'{int(count)}',\n",
    "                    ha='center', va='center', fontsize=9, color='white', fontweight='bold')\n",
    "        else:\n",
    "            ax.text(bar.get_x() + bar.get_width() / 2, height + 0.5, f'{int(count)}',\n",
    "                    ha='center', va='bottom', fontsize=9, color='black')\n",
    "        # Nad\n",
    "        ax.text(bar.get_x() + bar.get_width() / 2, height + 1.5, f'{height:.2f}%',\n",
    "                ha='center', va='bottom', fontsize=8, color='black')\n",
    "\n",
    "add_labels(bars_killed, Killed_counts_sr)\n",
    "add_labels(bars_injured, Injured_counts_sr)\n",
    "\n",
    "# Oś i estetyka\n",
    "ax.set_xticks(x_pos)\n",
    "ax.set_xticklabels(Boroughs_ls, rotation=45)\n",
    "ax.set_xlabel(\"Dzielnica (BOROUGH)\")\n",
    "ax.set_ylabel(\"Procent ofiar (%)\")\n",
    "ax.set_title(\"Ofiary spowodowane przez Unsafe Speed i Aggressive Driving/Road Rage\")\n",
    "ax.legend()\n",
    "ax.spines['top'].set_visible(False)\n",
    "ax.spines['right'].set_visible(False)\n",
    "ax.grid(axis='y', linestyle='--', alpha=0.5)\n",
    "\n",
    "plt.tight_layout()\n",
    "plt.show()"
   ]
  },
  {
   "cell_type": "markdown",
   "id": "582593a9-7c65-4301-8aa3-fb639cb98bc3",
   "metadata": {},
   "source": [
    "### ❓ **5.6 Wypadki bez wskazanej przyczyny**"
   ]
  },
  {
   "cell_type": "code",
   "execution_count": null,
   "id": "007ba142-a6ec-46e3-b050-ead793582573",
   "metadata": {},
   "outputs": [],
   "source": [
    "# Lista kolumn z przyczynami\n",
    "factor_columns_ls = [\n",
    "    \"CONTRIBUTING FACTOR VEHICLE 1\",\n",
    "    \"CONTRIBUTING FACTOR VEHICLE 2\",\n",
    "    \"CONTRIBUTING FACTOR VEHICLE 3\",\n",
    "    \"CONTRIBUTING FACTOR VEHICLE 4\",\n",
    "    \"CONTRIBUTING FACTOR VEHICLE 5\",\n",
    "]\n",
    "\n",
    "# Filtr: wszystkie kolumny są puste lub mają wartość 'Unspecified' (ignorujemy wielkość liter i spacje)\n",
    "no_factor_mask = Corrected_data_df[factor_columns_ls].apply(\n",
    "    lambda row: all(\n",
    "        pd.isna(val) or str(val).strip().upper() == \"UNSPECIFIED\"\n",
    "        for val in row\n",
    "    ),\n",
    "    axis=1\n",
    ")\n",
    "\n",
    "# Liczba takich wierszy (czyli liczba wypadków bez określonej przyczyny)\n",
    "number_of_accidents_with_no_factors = no_factor_mask.sum()\n",
    "\n",
    "total_accidents = len(Corrected_data_df)\n",
    "percent = (number_of_accidents_with_no_factors / total_accidents * 100).round(2)\n",
    "\n",
    "print(f\"Liczba wypadków bez określonej przyczyny: {number_of_accidents_with_no_factors}\")\n",
    "print(f\"Udział procentowy: {percent}%\")\n"
   ]
  },
  {
   "cell_type": "markdown",
   "id": "0b14802a-143f-4e5c-bd37-a33cc077c58a",
   "metadata": {},
   "source": [
    "## 📊 **6. Wnioski z przeprowadzonej analizy**\n",
    "---\n",
    "\n",
    "Na podstawie przeprowadzonej analizy danych o wypadkach drogowych w Nowym Jorku można sformułować następujące kluczowe wnioski:\n",
    "\n",
    "---\n",
    "\n",
    "### 🚗 Główne przyczyny wypadków\n",
    "- Najczęściej powtarzające się przyczyny wypadków to:\n",
    "  - *Driver Inattention/Distraction* (nieuwaga lub rozproszenie kierowcy),\n",
    "  - *Failure to Yield Right-of-Way* (nieustąpienie pierwszeństwa przejazdu),\n",
    "  - *Following Too Closely* (jazda „na zderzaku”).\n",
    "- Powyższe czynniki mają charakter systemowy – występują w każdej dzielnicy, niezależnie od zagęszczenia ruchu.\n",
    "- Ponad **85%** przyczyn wypadków leży po stronie kierowców.\n",
    "\n",
    "---\n",
    "\n",
    "### 🏙️ Zróżnicowanie przestrzenne (dzielnice)\n",
    "- **Bezwzględnie** najwięcej wypadków odnotowano w:\n",
    "  - Brooklyn,\n",
    "  - Queens,\n",
    "  - Bronx.\n",
    "- Jednak po uwzględnieniu **powierzchni dzielnic** (normalizacja na km²), perspektywa się zmienia:\n",
    "  - Największe zagęszczenie wypadków odnotowano na **Manhattanie**, który – mimo mniejszej powierzchni – ma intensywny ruch pieszy i samochodowy.\n",
    "  - **Bronx** i **Brooklyn** również mają wysokie wartości, co wskazuje na potrzebę zróżnicowanej interwencji w zależności od charakterystyki dzielnicy.\n",
    "\n",
    "---\n",
    "\n",
    "### 📍 Najniebezpieczniejsze lokalizacje\n",
    "- Mapa punktowa i agregacja danych wykazały skupiska wypadków w:\n",
    "  - rejonie dolnego i środkowego Manhattanu,\n",
    "  - przy głównych arteriach w Brooklynie (m.in. Atlantic Ave, Flatbush Ave),\n",
    "  - w okolicach Queens Blvd („Boulevard of Death”).\n",
    "- Te lokalizacje łączą intensywny ruch samochodowy z dużą liczbą pieszych – szczególnie narażonych na kolizje.\n",
    "\n",
    "---\n",
    "\n",
    "### 🕒 Wnioski czasowe\n",
    "- Najwięcej wypadków ma miejsce w godzinach szczytu, zwłaszcza między **15:00** a **18:00**.\n",
    "- W ujęciu tygodniowym:\n",
    "  - **Piątki** to dni o największym zagrożeniu,\n",
    "  - **Niedziele** – relatywnie najmniej wypadków, co może być efektem mniejszego natężenia ruchu.\n",
    "\n",
    "---\n",
    "\n",
    "### 🚑 Najniebezpieczniejsze przyczyny (pod względem ofiar)\n",
    "- Przyczyny odpowiadające za największą liczbę wszystkich ofiar (rannych + zabitych):\n",
    "  - *Driver Inattention/Distraction*,\n",
    "  - *Failure to Yield Right-of-Way*,\n",
    "  - *Unsafe Speed*.\n",
    "- Przyczyny związane z największą liczbą **ofiar śmiertelnych**:\n",
    "  - *Unsafe Speed*,\n",
    "  - *Alcohol Involvement* (jazda pod wpływem alkoholu),\n",
    "  - *Traffic Control Disregarded* (zlekceważenie sygnalizacji lub znaków drogowych).\n",
    "\n",
    "---\n",
    "\n",
    "### 🧭 Rekomendacje\n",
    "- **Edukacja kierowców**: kampanie uświadamiające dotyczące ryzyka rozproszenia uwagi i nieustąpienia pierwszeństwa.\n",
    "- **Egzekwowanie przepisów**:\n",
    "  - większe kontrole prędkości i trzeźwości,\n",
    "  - monitoring w rejonach skrzyżowań.\n",
    "- **Inwestycje infrastrukturalne**:\n",
    "  - poprawa widoczności i oznakowania na niebezpiecznych skrzyżowaniach,\n",
    "  - przebudowa infrastruktury w lokalizacjach z wysokim zagęszczeniem wypadków (np. Queens Blvd).\n",
    "- **Podejście przestrzenne**:\n",
    "  - Zamiast skupiać się jedynie na ogólnej liczbie wypadków w dzielnicach, uwzględniać **gęstość wypadków na jednostkę powierzchni**, by lepiej identyfikować miejsca wymagające interwencji.\n",
    "\n",
    "\n",
    "---\n",
    "\n",
    "🧠 **Podsumowanie**: Wnioski wskazują na konieczność kompleksowego podejścia do bezpieczeństwa drogowego, uwzględniającego aspekty przestrzenne, czasowe oraz charakter zdarzeń."
   ]
  }
 ],
 "metadata": {
  "kernelspec": {
   "display_name": "Python 3 (ipykernel)",
   "language": "python",
   "name": "python3"
  },
  "language_info": {
   "codemirror_mode": {
    "name": "ipython",
    "version": 3
   },
   "file_extension": ".py",
   "mimetype": "text/x-python",
   "name": "python",
   "nbconvert_exporter": "python",
   "pygments_lexer": "ipython3",
   "version": "3.12.4"
  }
 },
 "nbformat": 4,
 "nbformat_minor": 5
}
