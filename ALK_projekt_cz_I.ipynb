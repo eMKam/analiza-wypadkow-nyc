{
 "cells": [
  {
   "cell_type": "markdown",
   "id": "4fce0684-5db2-4f8e-b3d7-24b4c9510999",
   "metadata": {},
   "source": [
    "# Projekt Analiza Danych\n",
    "## AKADEMIA LEONA KOŹMIŃSKIEGO\n",
    "## Temat: **Analiza danych dotyczących wypadków samochodowych w Nowym Jorku**\n",
    "\n",
    "---"
   ]
  },
  {
   "cell_type": "markdown",
   "id": "87e0123a",
   "metadata": {},
   "source": [
    "# 📘 **Wstęp do projektu – Część I**\n",
    "\n",
    "> Celem niniejszej części projektu jest przygotowanie i wstępne oczyszczenie danych dotyczących wypadków drogowych w Nowym Jorku. Dane te stanowią podstawę do przeprowadzenia dalszych analiz przestrzennych, czasowych i statystycznych.\n"
   ]
  },
  {
   "cell_type": "markdown",
   "id": "eeb921bd",
   "metadata": {},
   "source": [
    "### 🔍 **Założenia analizy**\n",
    "\n",
    "📌 **Zakres danych**:  \n",
    "Analizowany zbiór danych dotyczy zdarzeń drogowych na terenie Nowego Jorku, rejestrowanych przez lokalne służby.\n",
    "\n",
    "📌 **Granice analizy przestrzennej**:  \n",
    "Jeżeli dane lokalizacyjne wskazują na położenie **poza granicami miasta**, należy uznać to za błąd w danych. Takie przypadki:\n",
    "- ✅ **uwzględniamy** w ogólnych analizach (np. liczba wypadków ogółem),\n",
    "- ❌ **pomijamy** w analizach przestrzennych i dzielnicowych, gdzie lokalizacja ma kluczowe znaczenie.\n",
    "\n",
    "📌 **Cel cz. I**:  \n",
    "- Ocena jakości danych wejściowych,  \n",
    "- Eliminacja braków i błędów,  \n",
    "- Wstępne przygotowanie danych do dalszych analiz.\n"
   ]
  },
  {
   "cell_type": "markdown",
   "id": "dc8b0972-0a0d-488d-b3e6-ee3e786e874e",
   "metadata": {},
   "source": [
    "---\n",
    "## 🧭 **Spis treści**\n",
    "\n",
    "### 📂 [1. Wczytanie danych oraz import wymaganych bibliotek](#📂-1-wczytanie-danych-oraz-import-wymaganych-bibliotek)  \n",
    "📌 *Rozdział zawiera import niezbędnych bibliotek oraz wczytanie zbioru danych do ramki danych typu Pandas w celu dalszej analizy.*\n",
    "\n",
    "### 📊 [2. Analiza i opis danych źródłowych](#📊-2-analiza-i-opis-danych-źródłowych)  \n",
    "📌 *Analiza struktury danych, typów kolumn oraz wstępne statystyki opisowe. Identyfikacja problemów jakościowych.*\n",
    "\n",
    "### 📉 [3. Wnioski z analizy danych dotyczące ich jakości w zakresie istotnym dla przygotowywanego raportu](#📉-3-wnioski-z-analizy-danych-dotyczące-ich-jakości-w-zakresie-istotnym-dla-przygotowywanego-raportu)  \n",
    "📌 *Podsumowanie najważniejszych problemów wpływających na dalszą analizę.*\n",
    "\n",
    "### 🛠️ [4. Założenia dotyczące możliwości skorygowania danych w celu poprawy ich jakości](#🛠️-4-założenia-dotyczące-możliwości-skorygowania-danych-w-celu-poprawy-ich-jakości)  \n",
    "📌 *Określenie reguł czyszczenia danych, np. odrzucania błędnych wartości lokalizacji czy grupowania typów pojazdów.*\n",
    "\n",
    "### 🧹 [5. Przetworzenie, wyczyszczenie i uzupełnienie danych](#🧹-5-przetworzenie-wyczyszczenie-i-uzupełnienie-danych)  \n",
    "📌 *Zastosowanie reguł korekcyjnych, zamiana typów, odrzucenie niepoprawnych rekordów, uzupełnienie braków.*\n",
    "\n",
    "### 💾 [6. Zapisanie skorygowanych danych](#💾-6-zapisanie-skorygowanych-danych)  \n",
    "📌 *Zapis przetworzonych danych do pliku CSV do wykorzystania w dalszej analizie.*\n",
    "\n",
    "### 🧾 [7. Podsumowanie części I projektu](#🧾-7-podsumowanie-części-i-projektu)  \n",
    "📌 *Wnioski końcowe dotyczące jakości danych i ich przygotowania do analizy przestrzenno-czasowej.*\n"
   ]
  },
  {
   "cell_type": "markdown",
   "id": "41c06a81-23a7-4097-a7f8-dc14d45d3424",
   "metadata": {},
   "source": [
    " ## 📂 **1. Wczytanie danych oraz import wymaganych bibliotek**\n",
    " ---"
   ]
  },
  {
   "cell_type": "code",
   "execution_count": null,
   "id": "f7bf76e6-622f-4cf6-99d0-d66f7787f7eb",
   "metadata": {},
   "outputs": [],
   "source": [
    "import pandas as pd\n",
    "import geopandas as gpd\n",
    "#from geopy.geocoders import Nominatim\n",
    "#from geopy.extra.rate_limiter import RateLimiter\n",
    "import re\n",
    "import branca as bc\n",
    "import folium\n",
    "from shapely.geometry import Point\n",
    "import matplotlib.pyplot as plt\n",
    "\n",
    "# Wymagane instalacje w terminalu:\n",
    "# pip install geopandas pandas\n",
    "# pip install branca\n",
    "# pip install folium matplotlib mapclassify\n",
    "# ściągnąć GeoPandas - nie używać labdy ani aplay nie używać,  spatial join to jest szybsze do przypisania punktu do dzielnicy\n",
    "# engine = 'pyarrow'"
   ]
  },
  {
   "cell_type": "code",
   "execution_count": null,
   "id": "4786fb4d-7bc1-4334-b9b9-b679bf2d8da0",
   "metadata": {},
   "outputs": [],
   "source": [
    "# Wczytanie danych źródłowych\n",
    "Initial_data_df = pd.read_csv(r\"Data/nypd-motor-vehicle-collisions/nypd-motor-vehicle-collisions.csv\",\n",
    "                             engine = \"pyarrow\")"
   ]
  },
  {
   "cell_type": "code",
   "execution_count": null,
   "id": "5e0592be-263c-4ad9-9f2a-6d7841ccf596",
   "metadata": {},
   "outputs": [],
   "source": [
    "Initial_data_df.head(3)"
   ]
  },
  {
   "cell_type": "markdown",
   "id": "e27b876e-323b-44a0-a018-c62d16711262",
   "metadata": {},
   "source": [
    "## 🔍 **2. Analiza i opis danych źródłowych**\n",
    "---"
   ]
  },
  {
   "cell_type": "markdown",
   "id": "7bdffe4c-2844-4a29-9050-52b48b8348be",
   "metadata": {},
   "source": [
    "### 📦 **2.1 Rozmiar danych inicjalnych**\n"
   ]
  },
  {
   "cell_type": "code",
   "execution_count": null,
   "id": "938109cd-3ead-48b5-96b2-0f76d05a9a76",
   "metadata": {},
   "outputs": [],
   "source": [
    "Initial_data_df.shape "
   ]
  },
  {
   "cell_type": "markdown",
   "id": "ef6c44d9-f1ab-4320-8ff6-9ff69749e05b",
   "metadata": {},
   "source": [
    "### 🧾 **2.2 Ogólne informacje o danych występujących w poszczególnych kolumnach**\n"
   ]
  },
  {
   "cell_type": "code",
   "execution_count": null,
   "id": "157b7f3a-6d90-4057-b767-d53e43992684",
   "metadata": {},
   "outputs": [],
   "source": [
    "Initial_data_df.info()"
   ]
  },
  {
   "cell_type": "markdown",
   "id": "a3de7b0c-2e20-4479-bd34-bdae9cd1b53a",
   "metadata": {},
   "source": [
    "### 🔢 **2.3 Typy danych występujące w kolumnach**\n"
   ]
  },
  {
   "cell_type": "code",
   "execution_count": null,
   "id": "3731a920-0ad9-4e49-a78d-34f3ef6e5eb4",
   "metadata": {},
   "outputs": [],
   "source": [
    "data_types_in_columns = {\n",
    "    col: Initial_data_df[col].map(lambda x: type(x).__name__).unique().tolist()\n",
    "    for col in Initial_data_df.columns\n",
    "}\n",
    "\n",
    "for col, types in data_types_in_columns.items():\n",
    "    print(f\"{col}: {types}\")"
   ]
  },
  {
   "cell_type": "markdown",
   "id": "d570264c-0ddc-4ca1-833b-6ed48bcfb4e7",
   "metadata": {},
   "source": [
    "### 📭 **2.4 Sprawdzenie czy istnieją puste wiersze bez podanych danych we wszystkich polach**\n"
   ]
  },
  {
   "cell_type": "code",
   "execution_count": null,
   "id": "235d9458-5315-4045-9afd-91ce4bfd480b",
   "metadata": {},
   "outputs": [],
   "source": [
    "# Sprawdzenie, które wiersze mają wszystkie pola puste\n",
    "mask = Initial_data_df.isna().all(axis=1)\n",
    "\n",
    "# Sprawdzenie, czy w ogóle takie wiersze istnieją:\n",
    "any_empty_rows = mask.any()\n",
    "print(\"Czy istnieją puste wiersze?:\", any_empty_rows)\n",
    "\n",
    "# Wyświetlenie tych wierszy (jeśli są)\n",
    "#empty_rows = Initial_data_df[mask]\n",
    "\n",
    "#print(\"Wiersze z wszystkimi wartościami NaN:\")\n",
    "#print(empty_rows)"
   ]
  },
  {
   "cell_type": "markdown",
   "id": "d2cab83b-8aef-4f88-9f8b-8162297ea106",
   "metadata": {},
   "source": [
    "### 🧬 **2.5 Sprawdzenie unikalności danych**\n"
   ]
  },
  {
   "cell_type": "code",
   "execution_count": null,
   "id": "b215c77f-4f9f-446b-a235-374e6706b297",
   "metadata": {},
   "outputs": [],
   "source": [
    "# Powtórzone wiersze (takie same wartości we wszystkich polach wierszy)\n",
    "Initial_data_df[Initial_data_df.duplicated()].head(3)"
   ]
  },
  {
   "cell_type": "code",
   "execution_count": null,
   "id": "6e2a1871-db3e-4bcf-8b53-a76ba00ddf67",
   "metadata": {},
   "outputs": [],
   "source": [
    "# Przykładowy powielony wiersz\n",
    "Initial_data_df[Initial_data_df[\"COLLISION_ID\"] == 3725834]"
   ]
  },
  {
   "cell_type": "code",
   "execution_count": null,
   "id": "86e070da-33ca-4420-81b6-d2ced0459add",
   "metadata": {},
   "outputs": [],
   "source": [
    "# Liczba powielonych wierszy\n",
    "Repeated_lines_sr = Initial_data_df['COLLISION_ID'].value_counts(dropna = False)\n",
    "print(\"Liczba powtarzających się wierszy:\", len(Repeated_lines_sr[Repeated_lines_sr > 1]))"
   ]
  },
  {
   "cell_type": "markdown",
   "id": "32d33de0-24a1-449e-9278-c71339127c8d",
   "metadata": {},
   "source": [
    "### ⏰ **2.6 Dane dotyczące czasu wystąpienia wypadku**\n"
   ]
  },
  {
   "cell_type": "code",
   "execution_count": null,
   "id": "f05647e8-d07a-45d4-97c2-1e21b305d668",
   "metadata": {},
   "outputs": [],
   "source": [
    "Initial_data_df.loc[:2, [\"ACCIDENT DATE\", \"ACCIDENT TIME\"]]"
   ]
  },
  {
   "cell_type": "markdown",
   "id": "002f39fa-44aa-486c-9c2a-4d9989c98091",
   "metadata": {},
   "source": [
    "### 🗺️ **2.7 Dane dotyczące lokalizacji miejsca wypadku**\n"
   ]
  },
  {
   "cell_type": "markdown",
   "id": "6868fcd2-1db9-4468-a45a-cb75bffa71fa",
   "metadata": {},
   "source": [
    "#### 2.7.1 Przykładowe dane dotyczące lokalizacji wypadku"
   ]
  },
  {
   "cell_type": "code",
   "execution_count": null,
   "id": "c145a3ba-d23e-47c2-9209-741b9cb3d5c1",
   "metadata": {},
   "outputs": [],
   "source": [
    "Initial_data_df.iloc[:3, 2:10]"
   ]
  },
  {
   "cell_type": "markdown",
   "id": "20b4f688-e64a-441b-a760-661e30941343",
   "metadata": {},
   "source": [
    "#### 2.7.2 Dzielnice Nowego Jorku, których dotyczą dane o wypadkach"
   ]
  },
  {
   "cell_type": "code",
   "execution_count": null,
   "id": "83200fa2-5077-4d2a-8687-81ccaefb412e",
   "metadata": {},
   "outputs": [],
   "source": [
    "#Nazwy dzielnic, które występują w danych\n",
    "pd.Series(Initial_data_df[\"BOROUGH\"].unique())"
   ]
  },
  {
   "cell_type": "markdown",
   "id": "3c22df2e-64c2-46be-b113-fd36ad2f44e9",
   "metadata": {},
   "source": [
    "#### 2.7.3 Braki w danych o miejscu wystąpienia wypadku "
   ]
  },
  {
   "cell_type": "code",
   "execution_count": null,
   "id": "be5cfb83-c27b-43d2-9b26-365ad8521b46",
   "metadata": {},
   "outputs": [],
   "source": [
    "# Przykładowe wiersze, w których brakuje nazwy dzielnic\n",
    "Initial_data_df[Initial_data_df[\"BOROUGH\"].isnull()].head(3)"
   ]
  },
  {
   "cell_type": "code",
   "execution_count": null,
   "id": "4651bad9-65a9-4517-9e14-d7ff65613b3c",
   "metadata": {},
   "outputs": [],
   "source": [
    "#Liczba wierszy bez podanych nazw dzielnic\n",
    "print('Liczba wierszy bez podanej nazwy dzielnicy:', len(Initial_data_df[Initial_data_df[\"BOROUGH\"].isnull()]))"
   ]
  },
  {
   "cell_type": "code",
   "execution_count": null,
   "id": "da7aff97-64af-4061-a991-d91a3ba7a5a3",
   "metadata": {},
   "outputs": [],
   "source": [
    "# Liczba wierszy bez podanych nazw dzielnic, ale zawierających dane lokalizacyjne miejsca wypadku\n",
    "# Wybranie wierszy bez nazwy dzielnicy i tylko z podanymi współrzędnymi\n",
    "Initial_data_df[Initial_data_df[\"BOROUGH\"].isna() &\n",
    "Initial_data_df[\"LATITUDE\"].notna() & \n",
    "Initial_data_df[\"LONGITUDE\"].notna()][[\"BOROUGH\", \"LATITUDE\", \"LONGITUDE\", \"LOCATION\"]].head(3)"
   ]
  },
  {
   "cell_type": "code",
   "execution_count": null,
   "id": "d8079546-e460-422c-b91b-fdcb2dd8529a",
   "metadata": {},
   "outputs": [],
   "source": [
    "# Wiersze z brakującymi nazwami dzielnic, długością i szerokością geograficzną, ale z podaną wartością w kolumnie \"LOCATION\"\n",
    "Initial_data_df[Initial_data_df[\"BOROUGH\"].isna() &\n",
    "Initial_data_df[\"LATITUDE\"].isna() & \n",
    "Initial_data_df[\"LONGITUDE\"].isna() &\n",
    "Initial_data_df[\"LOCATION\"].notna()][[\"BOROUGH\", \"LATITUDE\", \"LONGITUDE\", \"LOCATION\"]].head(3)"
   ]
  },
  {
   "cell_type": "markdown",
   "id": "3cd13128-45b9-4314-829e-79b9c38b8a75",
   "metadata": {},
   "source": [
    "#### 2.7.4 Współrzędne miejsc wypadków"
   ]
  },
  {
   "cell_type": "code",
   "execution_count": null,
   "id": "60f57d0d-ea64-4c36-bf31-c5d30a0f6a7e",
   "metadata": {},
   "outputs": [],
   "source": [
    "#Location_df = Corrected_data_df[[\"LATITUDE\", \"LONGITUDE\"]]\n",
    "Initial_data_df[['LATITUDE', 'LONGITUDE']].dropna().sample(5)"
   ]
  },
  {
   "cell_type": "code",
   "execution_count": null,
   "id": "8f71290e-d97e-4208-b9ea-d58289e0e808",
   "metadata": {},
   "outputs": [],
   "source": [
    "# Zakres współrzędnych długości i szerokości geograficznej\n",
    "print(\"Zakres Latitude: od\", Initial_data_df['LATITUDE'].min(), \"do\", Initial_data_df['LATITUDE'].max())\n",
    "print(\"Zakres Longitude: od\", Initial_data_df['LONGITUDE'].min(), \"do\", Initial_data_df['LONGITUDE'].max())"
   ]
  },
  {
   "cell_type": "markdown",
   "id": "a943986e-b667-4788-be22-4829898c97a9",
   "metadata": {},
   "source": [
    "##### 2.7.4.1 Układ współrzędnych danych lokalizacji wypadków"
   ]
  },
  {
   "cell_type": "code",
   "execution_count": null,
   "id": "478bf2b2-bfd3-409c-8f32-9f8b3a586cb6",
   "metadata": {},
   "outputs": [],
   "source": [
    "# Wybranie wierszy bez nazwy dzielnicy i tylko z podanymi współrzędnymi\n",
    "Missing_borough_df = Initial_data_df[Initial_data_df['BOROUGH'].isna() & Initial_data_df['LATITUDE'].notna() & Initial_data_df['LONGITUDE'].notna()]\n",
    "\n",
    "# Utworzenie geometrii dla miejsc wypadków (listy punków w przestrzeni na podstawie współrzędnych długości i szerokości geograficznej)\n",
    "Points_with_accident_coordinates_ls = [Point(xy) for xy in zip(Missing_borough_df['LONGITUDE'], Missing_borough_df['LATITUDE'])]\n",
    "\n",
    "# Utworzenie zbioru danych o wypadkach z geometrią utowrzoną dla lokalizacji wypadków w postaci GeoDataFrame z przypisanym układem współrzędnych EPSG:4326\n",
    "Accidents_gdf = gpd.GeoDataFrame(Missing_borough_df, geometry=Points_with_accident_coordinates_ls, crs=\"EPSG:4326\")\n",
    "\n",
    "# Sprawdzenie przypisanego układu\n",
    "print(\"Układ współrzędnych, w którym zapisano długość i szerokość geograficzną miejsc wypadków:\", Accidents_gdf.crs)"
   ]
  },
  {
   "cell_type": "markdown",
   "id": "8135ad41-8860-43ef-8520-afbc89cbb552",
   "metadata": {},
   "source": [
    "Kody EPSG to numeryczne identyfikatory przypisane do układów odniesienia przestrzennego (CRS – Coordinate Reference Systems), które są standaryzowane przez organizację European Petroleum Survey Group, dziś utrzymywaną przez OGP (International Association of Oil & Gas Producers).\n",
    "Współrzędne źródłowe dotyczące wypadków w Nowym Jorku, jak można było się spodziewać podane są w układzie o identyfikatorze EPSG:4326 czyli WGS 84 – układzie używanym w GPS."
   ]
  },
  {
   "cell_type": "code",
   "execution_count": null,
   "id": "d21f6fa2-ae3f-4e94-a1cd-df0b9f87125c",
   "metadata": {},
   "outputs": [],
   "source": [
    "# Przykładowe wiersze bez nazwy dzielnicy, zawierające współrzędne lokalizacji wypadków\n",
    "Accidents_gdf.head(3)"
   ]
  },
  {
   "cell_type": "code",
   "execution_count": null,
   "id": "96459245-bfd7-4430-8288-79f2e2ec641e",
   "metadata": {},
   "outputs": [],
   "source": [
    "Accidents_gdf.info()"
   ]
  },
  {
   "cell_type": "code",
   "execution_count": null,
   "id": "542e1f5f-9f4f-4964-a0b8-f14723afcb0c",
   "metadata": {},
   "outputs": [],
   "source": [
    "# Wyświetlenie punktów lokalizacji wypadków\n",
    "Accidents_gdf.explore()"
   ]
  },
  {
   "cell_type": "markdown",
   "id": "437be16a-6c03-4d4d-a846-a22dd846f4ed",
   "metadata": {},
   "source": [
    "#### 2.7.5 Kody pocztowe"
   ]
  },
  {
   "cell_type": "markdown",
   "id": "3386d380-677d-42a9-b3a9-47fe12a18c6f",
   "metadata": {},
   "source": [
    "W kolumnie ZIP CODE występują dane różnych typów liczbowych"
   ]
  },
  {
   "cell_type": "markdown",
   "id": "8a91fd6c-d1dd-4b72-9142-e379148f7f92",
   "metadata": {},
   "source": [
    "### 🚑 **2.8 Dane dotyczące skutków i liczby poszkodowanych w wypadkach**\n"
   ]
  },
  {
   "cell_type": "code",
   "execution_count": null,
   "id": "ffe14870-eb2c-45ea-b825-fedc52dd3bf8",
   "metadata": {},
   "outputs": [],
   "source": [
    "# Dane o liczbie rannych i zabitych w wypadku\n",
    "Initial_data_df.sort_values(\"NUMBER OF PERSONS KILLED\", ascending=False).iloc[:10, 10:18]"
   ]
  },
  {
   "cell_type": "markdown",
   "id": "7754b6bb-a13a-4f3f-8261-0be6784c4010",
   "metadata": {},
   "source": [
    "### 💥 **2.9 Przyczyny wypadków**\n"
   ]
  },
  {
   "cell_type": "code",
   "execution_count": null,
   "id": "af9b6a30-e64e-4f63-8520-59bffecbc428",
   "metadata": {
    "scrolled": true
   },
   "outputs": [],
   "source": [
    "# Przykładowe dane dotyczące przyczyn wypadków\n",
    "Initial_data_df.iloc[:50, 18:23]"
   ]
  },
  {
   "cell_type": "markdown",
   "id": "5892eb4a-c86f-4b2b-862e-fff82aa7730c",
   "metadata": {},
   "source": [
    "### 🚗 **2.10 Typy pojazdów uczestniczących w wypadkach**\n"
   ]
  },
  {
   "cell_type": "code",
   "execution_count": null,
   "id": "31f9e371-c6f8-45f4-82ce-3f199c355b6f",
   "metadata": {},
   "outputs": [],
   "source": [
    "Initial_data_df.iloc[:10, 23:]"
   ]
  },
  {
   "cell_type": "code",
   "execution_count": null,
   "id": "04d66406-87f7-4a3c-ab6f-f06462e718e8",
   "metadata": {},
   "outputs": [],
   "source": [
    "# Ramka danych z przyczynami wypadków\n",
    "Vehicle_type_code_df  = Initial_data_df[[\"VEHICLE TYPE CODE 1\",\n",
    "                                          \"VEHICLE TYPE CODE 2\",\n",
    "                                          \"VEHICLE TYPE CODE 3\",\n",
    "                                          \"VEHICLE TYPE CODE 4\",\n",
    "                                          \"VEHICLE TYPE CODE 5\"\n",
    "                                         ]]"
   ]
  },
  {
   "cell_type": "markdown",
   "id": "4809acff-7202-4af3-8e8a-1f962c5bef86",
   "metadata": {},
   "source": [
    "### 📉 **2.11 Zastawienie liczbowe i procentowe braków w danych źródłowych**\n"
   ]
  },
  {
   "cell_type": "code",
   "execution_count": null,
   "id": "49d1d447-eb6f-44a6-8471-b2cefc1cfa02",
   "metadata": {},
   "outputs": [],
   "source": [
    "#Liczba brakujących danych w poszczególnych kolumnach\n",
    "Missing_date_df = Initial_data_df.isnull().sum()\n",
    "Missing_date_df = Missing_date_df.to_frame(name = \"Number of missing data\")"
   ]
  },
  {
   "cell_type": "code",
   "execution_count": null,
   "id": "96110561-4b36-46aa-a243-909137828589",
   "metadata": {},
   "outputs": [],
   "source": [
    "#Procent brakujących danych\n",
    "Missing_percentage_df = Initial_data_df.isnull().sum()*100/len(Initial_data_df)\n",
    "Missing_percentage_df = Missing_percentage_df.round(2).to_frame(name = \"Percentage of missing data [%]\")"
   ]
  },
  {
   "cell_type": "code",
   "execution_count": null,
   "id": "db187330-5e3d-4f2b-b2b3-220df500348c",
   "metadata": {},
   "outputs": [],
   "source": [
    "#Złączenie ramek\n",
    "Missing_date_df.join(Missing_percentage_df)"
   ]
  },
  {
   "cell_type": "markdown",
   "id": "1892f687-d97e-45ac-b838-9fd77d9f627d",
   "metadata": {},
   "source": [
    "## 📊 **3. Wnioski z analizy jakości danych w zakresie istotnym dla przygotowywanego raportu**\n",
    "---"
   ]
  },
  {
   "cell_type": "markdown",
   "id": "045ff528-d414-4834-8d2f-8e5e4d8deee5",
   "metadata": {},
   "source": [
    "* Nie ma w danych źródłowych pustych wierszy\n",
    "* Część wierszy powtarza się (mają te same wartości we wszystkich polach)\n",
    "* Występuje duża liczba wierszy z danymi wypadku bez wskazanej nazwy dzielnicy\n",
    "* Część wierszy, które nie mają podanej nazwy dzielnicy posiadają dane lokalizacyjne miejsca wypadku\n",
    "* Wiersze, w których brakuje nazwy dzielnicy, długości i szerokości geograficznej nie posiadają również wypełnionej kolumny \"LOCATION\"\n",
    "* Dane lokalizacyjne części wierszy są błędne i wskazują na miejsca poza granicami Nowego Jorku\n",
    "* Liczby w kolumnach \"ZIP CODE\", \"NUMBER OF PERSONS INJURED\" oraz \" NUMBER OF PERSONS KILLE\" podane zostały w formacie dziesiętnym\n",
    "* Część przyczyn wypadków o tym samym znaczeniu została zapisana pod różniącymi się od siebie nazwami"
   ]
  },
  {
   "cell_type": "markdown",
   "id": "22a6dbaf-94e2-48e9-af11-7fa8dc24d5c0",
   "metadata": {},
   "source": [
    " ## 🛠️ **4. Założenia dotyczące możliwości skorygowania danych w celu poprawy ich jakości**\n",
    " ---"
   ]
  },
  {
   "cell_type": "markdown",
   "id": "714604ac-1493-4655-b688-ac8bafe20739",
   "metadata": {},
   "source": [
    "* Należy usunąć powtórzone wiersze aby nie wpływały na wyliczane statystyki\n",
    "* Należy uzupełnić nazwy dzielnic w oparciu o położenie punktów wskazujących lokalizacje miejsc wypadków (w wierszach, dla których jest to możliwe)\n",
    "* Jeżeli nazwa dzielnicy została podana w wierszu, to jest uznana za właściwą i nie jest kontrolowana w oparciu o połżenie punktu lokalizacji wypadku\n",
    "* Nazwy dzielnic nie będą uzupełniane na podstawie nazw ulic - ulica może przebiegać przez więcej niż jedną dzielnicę, mogą wystąpić powtórzenia w nazwach ulic\n",
    "* Wartości występujące w kolumnach \"ZIP CODE\", \"NUMBER OF PERSONS INJURED\" oraz \" NUMBER OF PERSONS KILLE\" należy zamienić na liczby całkowite\n",
    "*  Należy ujednolicić nazwy przyczyn wypadków mające to samo znaczeni\n",
    "* W celu polepszenia czytelności można zmienić format date"
   ]
  },
  {
   "cell_type": "markdown",
   "id": "3fef6b89-89da-4767-985a-0f01607777d9",
   "metadata": {},
   "source": [
    "## 🧹 **5. Przetworzenie, wyczyszczenie i uzupełnienie danych**\n",
    "---"
   ]
  },
  {
   "cell_type": "code",
   "execution_count": null,
   "id": "59ab3c24-a3fa-46e0-a0c0-125d3e68b63d",
   "metadata": {},
   "outputs": [],
   "source": [
    "# Ramka danych na czyszczone, poprawiane i uzupełniane dane\n",
    "Corrected_data_df = Initial_data_df"
   ]
  },
  {
   "cell_type": "code",
   "execution_count": null,
   "id": "1d9e51a5-a6b8-4c13-b4a0-c6658bbc8546",
   "metadata": {},
   "outputs": [],
   "source": [
    "Corrected_data_df.head(3)"
   ]
  },
  {
   "cell_type": "code",
   "execution_count": null,
   "id": "5f169a41-9766-47c5-b90d-90e977cb7d1f",
   "metadata": {},
   "outputs": [],
   "source": [
    "len(Corrected_data_df)"
   ]
  },
  {
   "cell_type": "markdown",
   "id": "765951d1-b8c6-44f1-80f8-15d56dc45d99",
   "metadata": {},
   "source": [
    "### 🧾 **5.1 Powtórzone wiersze pochodzące z nieprzetworzonych danych źródłowych**\n"
   ]
  },
  {
   "cell_type": "code",
   "execution_count": null,
   "id": "1059a479-6cee-4bf5-aec1-7065b683e9fc",
   "metadata": {},
   "outputs": [],
   "source": [
    "# Liczba powielonych wierszy\n",
    "number_of_repeated_lines = Initial_data_df['COLLISION_ID'].value_counts(dropna = False)\n",
    "print(\"Liczba powtarzających się identyfikatorów kolizji:\", len(Repeated_lines_sr[Repeated_lines_sr > 1]))"
   ]
  },
  {
   "cell_type": "code",
   "execution_count": null,
   "id": "cdbeb987-f01d-43ff-8dd7-c69a8d37a4b0",
   "metadata": {},
   "outputs": [],
   "source": [
    "# Zliczenie powtórzonych wierszy\n",
    "number_of_repeated_lines = Corrected_data_df.duplicated(keep=False).sum()\n",
    "print(\"Liczba powtórzonych wierszy:\", int(number_of_repeated_lines/2))"
   ]
  },
  {
   "cell_type": "code",
   "execution_count": null,
   "id": "f479b6e1-57a4-4086-ad21-c11c0880e49a",
   "metadata": {},
   "outputs": [],
   "source": [
    "# Usunięcie duplikatów wierszy na podstawie wartości z wszystkich kolumn - pól w całym wierszu\n",
    "Corrected_data_df = Corrected_data_df.drop_duplicates()"
   ]
  },
  {
   "cell_type": "code",
   "execution_count": null,
   "id": "3df55ad2-83fc-4f61-896e-72a67cf56853",
   "metadata": {},
   "outputs": [],
   "source": [
    "# Ponowne sprawdzenie czy występują powtórzone wiersze\n",
    "number_of_repeated_lines = Corrected_data_df.duplicated(keep=False).sum()\n",
    "print(\"Liczba powtórzonych wierszy:\", int(number_of_repeated_lines/2))"
   ]
  },
  {
   "cell_type": "code",
   "execution_count": null,
   "id": "a8562ab0-adae-4300-a1e3-413b60f3f62b",
   "metadata": {},
   "outputs": [],
   "source": [
    "# Wyszukanie identyfikatorów kolizji, dla powielonych wierszy w danych źródłowych\n",
    "Repeated_lines_sr.loc[Repeated_lines_sr > 1].head(3)"
   ]
  },
  {
   "cell_type": "markdown",
   "id": "6f92f2bb-f84d-4ea5-a45a-079fab9a5ce5",
   "metadata": {},
   "source": [
    "##### Sprawdzenie poprawności usunięcia duplikatów dla przykładowego wiersza (różnica między Initial_data_df a Initial_data_unique_df)"
   ]
  },
  {
   "cell_type": "code",
   "execution_count": null,
   "id": "2fa7f124-cf11-4946-8f3d-5f0d10b1e090",
   "metadata": {},
   "outputs": [],
   "source": [
    "# Dane źródłowe\n",
    "Initial_data_df[Initial_data_df['COLLISION_ID'] == 268395]"
   ]
  },
  {
   "cell_type": "code",
   "execution_count": null,
   "id": "7c5f02a1-aaa6-4148-89d0-da63d8765c12",
   "metadata": {},
   "outputs": [],
   "source": [
    "# Dane wyczyszczone z powtórzonych wierszy\n",
    "Corrected_data_df[Corrected_data_df['COLLISION_ID'] == 268395]"
   ]
  },
  {
   "cell_type": "markdown",
   "id": "c56f1835-6267-48a1-92a0-63b93d7f6650",
   "metadata": {},
   "source": [
    "#### Unikalność identyfikatorów kolizji"
   ]
  },
  {
   "cell_type": "code",
   "execution_count": null,
   "id": "3619c6cc-813c-4e11-9252-b268bfdd8ac6",
   "metadata": {},
   "outputs": [],
   "source": [
    "# sprawdzenie unikalności danych w kolumnie COLLISION_ID\n",
    "Corrected_data_df[Corrected_data_df[\"COLLISION_ID\"].duplicated()]"
   ]
  },
  {
   "cell_type": "markdown",
   "id": "f0c61d74-1a1f-4fc6-9b10-af50d1bcc9d7",
   "metadata": {
    "jp-MarkdownHeadingCollapsed": true
   },
   "source": [
    "\n",
    "\n",
    "\n",
    "\n",
    "\n",
    "\n",
    "\n",
    "\n",
    "\n",
    "\n",
    "\n",
    "\n",
    "\n",
    "\n",
    "\n",
    "\n"
   ]
  },
  {
   "cell_type": "markdown",
   "id": "9eb09f9d-f2c1-4771-895d-30b1d65246bd",
   "metadata": {},
   "source": [
    "### 📅 **5.2 Zmiana formatu dat**\n"
   ]
  },
  {
   "cell_type": "code",
   "execution_count": null,
   "id": "873d980d-0eb5-461c-94a8-654a9604eb40",
   "metadata": {},
   "outputs": [],
   "source": [
    "Corrected_data_df['ACCIDENT DATE'] = pd.to_datetime(Corrected_data_df['ACCIDENT DATE'])\n",
    "Corrected_data_df['ACCIDENT DATE'] = Corrected_data_df['ACCIDENT DATE'].dt.strftime('%Y-%m-%d')"
   ]
  },
  {
   "cell_type": "markdown",
   "id": "78677015-c973-4486-be9f-d158ea841a7e",
   "metadata": {},
   "source": [
    "### 🔢 **5.3 Zmiana typu danych na liczby całkowite**\n"
   ]
  },
  {
   "cell_type": "code",
   "execution_count": null,
   "id": "9c90e041-c477-4032-a662-ffb5c03b27ef",
   "metadata": {},
   "outputs": [],
   "source": [
    "Corrected_data_df[\"ZIP CODE\"] = pd.to_numeric(Corrected_data_df[\"ZIP CODE\"], errors='coerce').astype('Int64')"
   ]
  },
  {
   "cell_type": "code",
   "execution_count": null,
   "id": "1ac4535f-eee9-4678-8c99-178ee8ad1782",
   "metadata": {},
   "outputs": [],
   "source": [
    "Corrected_data_df[\"NUMBER OF PERSONS INJURED\"] = pd.to_numeric(Corrected_data_df[\"NUMBER OF PERSONS INJURED\"], errors='coerce').astype('Int64')"
   ]
  },
  {
   "cell_type": "code",
   "execution_count": null,
   "id": "67c8d8bd-2f02-4ead-bb4c-ea41b00dd566",
   "metadata": {},
   "outputs": [],
   "source": [
    "Corrected_data_df[\"NUMBER OF PERSONS KILLED\"] = pd.to_numeric(Corrected_data_df[\"NUMBER OF PERSONS KILLED\"], errors='coerce').astype('Int64')"
   ]
  },
  {
   "cell_type": "code",
   "execution_count": null,
   "id": "069a72db-ced7-4e1f-ac6b-521abec07f3b",
   "metadata": {},
   "outputs": [],
   "source": [
    "# Kolumny ze zmienionymi typami danych\n",
    "Corrected_data_df[[\"ZIP CODE\", \"NUMBER OF PERSONS INJURED\", \"NUMBER OF PERSONS KILLED\"]].head()"
   ]
  },
  {
   "cell_type": "code",
   "execution_count": null,
   "id": "70fa80a3-405d-466b-8099-8b830a4a26d0",
   "metadata": {},
   "outputs": [],
   "source": [
    "# Ponowne zliczenie powtórzonych wierszy po zmianie typów danych\n",
    "number_of_repeated_lines = Corrected_data_df.duplicated(keep=False).sum()\n",
    "print(\"Liczba powtórzonych wierszy:\", int(number_of_repeated_lines/2))"
   ]
  },
  {
   "cell_type": "code",
   "execution_count": null,
   "id": "53524366-8edd-4c34-bf9b-69efbfa2f5ae",
   "metadata": {},
   "outputs": [],
   "source": [
    "# Ponowne usunięcie duplikatów wierszy na podstawie wartości z wszystkich kolumn - pól w całym wierszu\n",
    "Corrected_data_df = Corrected_data_df.drop_duplicates()"
   ]
  },
  {
   "cell_type": "code",
   "execution_count": null,
   "id": "e3d017be-a145-4d0c-be4f-e09345f64327",
   "metadata": {},
   "outputs": [],
   "source": [
    "# Sprawdzenie usunięcia powtórzonych wierszy\n",
    "number_of_repeated_lines = Corrected_data_df.duplicated(keep=False).sum()\n",
    "print(\"Liczba powtórzonych wierszy:\", int(number_of_repeated_lines/2))"
   ]
  },
  {
   "cell_type": "markdown",
   "id": "850e524b-3048-45bb-8391-4277035d222e",
   "metadata": {},
   "source": [
    "### 🧹 **5.4 Ujednolicenie nazw kategorii mających to samo znaczenie**\n"
   ]
  },
  {
   "cell_type": "markdown",
   "id": "5081abfd-02fe-4a83-8fcf-0fe2c9f7d7d7",
   "metadata": {},
   "source": [
    "Połączenie pojęć oznaczających te same przyczyny"
   ]
  },
  {
   "cell_type": "code",
   "execution_count": null,
   "id": "0bcefb1f-d8f9-4eaa-8599-abe4306310d9",
   "metadata": {},
   "outputs": [],
   "source": [
    "Corrected_data_df.loc[Corrected_data_df[\"CONTRIBUTING FACTOR VEHICLE 1\"].isin(['1', '80']), \"CONTRIBUTING FACTOR VEHICLE 1\"] = 'Unspecified'\n",
    "Corrected_data_df.loc[Corrected_data_df[\"CONTRIBUTING FACTOR VEHICLE 2\"].isin(['1', '80']), \"CONTRIBUTING FACTOR VEHICLE 2\"] = 'Unspecified'\n",
    "Corrected_data_df.loc[Corrected_data_df[\"CONTRIBUTING FACTOR VEHICLE 3\"].isin(['1', '80']), \"CONTRIBUTING FACTOR VEHICLE 3\"] = 'Unspecified'\n",
    "Corrected_data_df.loc[Corrected_data_df[\"CONTRIBUTING FACTOR VEHICLE 4\"].isin(['1', '80']), \"CONTRIBUTING FACTOR VEHICLE 4\"] = 'Unspecified'\n",
    "Corrected_data_df.loc[Corrected_data_df[\"CONTRIBUTING FACTOR VEHICLE 5\"].isin(['1', '80']), \"CONTRIBUTING FACTOR VEHICLE 5\"] = 'Unspecified'"
   ]
  },
  {
   "cell_type": "code",
   "execution_count": null,
   "id": "def27069-60c6-4963-9a22-15822ca226d0",
   "metadata": {},
   "outputs": [],
   "source": [
    "Corrected_data_df.loc[Corrected_data_df[\"CONTRIBUTING FACTOR VEHICLE 1\"] == 'Drugs (Illegal)', \"CONTRIBUTING FACTOR VEHICLE 1\"] = 'Drugs (illegal)'\n",
    "Corrected_data_df.loc[Corrected_data_df[\"CONTRIBUTING FACTOR VEHICLE 2\"] == 'Drugs (Illegal)', \"CONTRIBUTING FACTOR VEHICLE 2\"] = 'Drugs (illegal)'\n",
    "Corrected_data_df.loc[Corrected_data_df[\"CONTRIBUTING FACTOR VEHICLE 3\"] == 'Drugs (Illegal)', \"CONTRIBUTING FACTOR VEHICLE 3\"] = 'Drugs (illegal)'\n",
    "Corrected_data_df.loc[Corrected_data_df[\"CONTRIBUTING FACTOR VEHICLE 4\"] == 'Drugs (Illegal)', \"CONTRIBUTING FACTOR VEHICLE 4\"] = 'Drugs (illegal)'\n",
    "Corrected_data_df.loc[Corrected_data_df[\"CONTRIBUTING FACTOR VEHICLE 5\"] == 'Drugs (Illegal)', \"CONTRIBUTING FACTOR VEHICLE 5\"] = 'Drugs (illegal)'"
   ]
  },
  {
   "cell_type": "code",
   "execution_count": null,
   "id": "378aac1d-d6c8-40d0-95c8-710ba5298c29",
   "metadata": {},
   "outputs": [],
   "source": [
    "Corrected_data_df.loc[Corrected_data_df[\"CONTRIBUTING FACTOR VEHICLE 1\"] == 'Cell Phone (hand-Held)', \"CONTRIBUTING FACTOR VEHICLE 1\"] = 'Cell Phone (hand-held)'\n",
    "Corrected_data_df.loc[Corrected_data_df[\"CONTRIBUTING FACTOR VEHICLE 2\"] == 'Cell Phone (hand-Held)', \"CONTRIBUTING FACTOR VEHICLE 2\"] = 'Cell Phone (hand-held)'\n",
    "Corrected_data_df.loc[Corrected_data_df[\"CONTRIBUTING FACTOR VEHICLE 3\"] == 'Cell Phone (hand-Held)', \"CONTRIBUTING FACTOR VEHICLE 3\"] = 'Cell Phone (hand-held)'\n",
    "Corrected_data_df.loc[Corrected_data_df[\"CONTRIBUTING FACTOR VEHICLE 4\"] == 'Cell Phone (hand-Held)', \"CONTRIBUTING FACTOR VEHICLE 4\"] = 'Cell Phone (hand-held)'\n",
    "Corrected_data_df.loc[Corrected_data_df[\"CONTRIBUTING FACTOR VEHICLE 5\"] == 'Cell Phone (hand-Held)', \"CONTRIBUTING FACTOR VEHICLE 5\"] = 'Cell Phone (hand-held)'"
   ]
  },
  {
   "cell_type": "code",
   "execution_count": null,
   "id": "ab87fd01-e222-4bdf-bb23-416a0e4ac21a",
   "metadata": {},
   "outputs": [],
   "source": [
    "Corrected_data_df.loc[Corrected_data_df[\"CONTRIBUTING FACTOR VEHICLE 1\"] == 'Illnes', \"CONTRIBUTING FACTOR VEHICLE 1\"] = 'Illness'\n",
    "Corrected_data_df.loc[Corrected_data_df[\"CONTRIBUTING FACTOR VEHICLE 2\"] == 'Illnes', \"CONTRIBUTING FACTOR VEHICLE 2\"] = 'Illness'\n",
    "Corrected_data_df.loc[Corrected_data_df[\"CONTRIBUTING FACTOR VEHICLE 3\"] == 'Illnes', \"CONTRIBUTING FACTOR VEHICLE 3\"] = 'Illness'\n",
    "Corrected_data_df.loc[Corrected_data_df[\"CONTRIBUTING FACTOR VEHICLE 4\"] == 'Illnes', \"CONTRIBUTING FACTOR VEHICLE 4\"] = 'Illness'\n",
    "Corrected_data_df.loc[Corrected_data_df[\"CONTRIBUTING FACTOR VEHICLE 5\"] == 'Illnes', \"CONTRIBUTING FACTOR VEHICLE 5\"] = 'Illness'"
   ]
  },
  {
   "cell_type": "code",
   "execution_count": null,
   "id": "0f78e71f-56a7-4452-be03-54a4749d5ad6",
   "metadata": {},
   "outputs": [],
   "source": [
    "# Sprawdzenie czy po ujednoliceniu nazw przyczyn wypadków nie pojawiły się powtórzone wiersze\n",
    "number_of_repeated_lines = Corrected_data_df.duplicated(keep=False).sum()\n",
    "print(\"Liczba powtórzonych wierszy:\", int(number_of_repeated_lines/2))"
   ]
  },
  {
   "cell_type": "code",
   "execution_count": null,
   "id": "dd59ba84-530a-44eb-8da8-5d8ae1d487d6",
   "metadata": {},
   "outputs": [],
   "source": [
    "Corrected_data_df.info()"
   ]
  },
  {
   "cell_type": "markdown",
   "id": "316408d5-3355-423d-adaa-ed20ea086cc7",
   "metadata": {},
   "source": [
    "### 🗽 **5.5 Uzupełnienie brakujących nazw dzielnic Nowego Jorku**\n"
   ]
  },
  {
   "cell_type": "code",
   "execution_count": null,
   "id": "c6558ce3-0e27-4bc9-8894-d64b62fe4f97",
   "metadata": {},
   "outputs": [],
   "source": [
    "# Liczba wierszy bez wskazanej dzielnicy\n",
    "number_of_rows_1 = Corrected_data_df[\"BOROUGH\"].isnull().sum()\n",
    "print(\"Liczba wierszy bez określonej dzielnicy:\",number_of_rows_1)"
   ]
  },
  {
   "cell_type": "code",
   "execution_count": null,
   "id": "058c3690-2a24-4a15-889b-fb81824f66a4",
   "metadata": {},
   "outputs": [],
   "source": [
    "# Liczba wierszy bez wskazanej dzielnicy z podaną lokalizacją wypadku w postaci współrzędnych\n",
    "number_of_rows_2 = Corrected_data_df[Corrected_data_df['BOROUGH'].isna() & Corrected_data_df['LATITUDE'].notna() & Corrected_data_df['LONGITUDE'].notna()]\n",
    "print(\"Liczba wierszy z podaną lokalizacją bez określonej dzielnicy:\",len(number_of_rows_2))"
   ]
  },
  {
   "cell_type": "code",
   "execution_count": null,
   "id": "1006a589-b989-433f-8988-56c09e90dadd",
   "metadata": {},
   "outputs": [],
   "source": [
    "# liczba wierszy, dla których nie będzie można uzupełnić nazwy dzielnicy\n",
    "number_of_rows_3 = Corrected_data_df[\"BOROUGH\"].isnull().sum() - len(Corrected_data_df[Corrected_data_df['BOROUGH'].isna() & Corrected_data_df['LATITUDE'].notna() & Corrected_data_df['LONGITUDE'].notna()])\n",
    "print(\"Liczba wierszy, które pozostaną bez określonej dzielnicy:\",number_of_rows_3)"
   ]
  },
  {
   "cell_type": "code",
   "execution_count": null,
   "id": "da6b8f6d-aa9c-491b-b4b9-6b19e5440a43",
   "metadata": {},
   "outputs": [],
   "source": [
    "# Procent wierszy, dla których nie ma możliwości wyznaczenia nazwy dzielnicy na podstawie współrzędnych lokalizacji wypadku\n",
    "print(\"W ujęciu procentowym:\",((100 * number_of_rows_3)/len(Corrected_data_df)).round(1),\"%\")"
   ]
  },
  {
   "cell_type": "code",
   "execution_count": null,
   "id": "f73f47bb-55b0-4a22-863b-bbd047938bdf",
   "metadata": {},
   "outputs": [],
   "source": [
    "# Liczba brakujących danych w poszczególnych kolumnach\n",
    "Missing_date_df = Corrected_data_df.isnull().sum()\n",
    "Missing_date_df = Missing_date_df.to_frame(name = \"Number of missing data\")\n",
    "\n",
    "# Procent brakujących danych\n",
    "Missing_percentage_df = Corrected_data_df.isnull().sum()*100/len(Initial_data_df)\n",
    "Missing_percentage_df = Missing_percentage_df.round(2).to_frame(name = \"Percentage of missing data [%]\")\n",
    "\n",
    "# Złączenie ramek\n",
    "Missing_date_df.join(Missing_percentage_df)"
   ]
  },
  {
   "cell_type": "markdown",
   "id": "ddec7abc-5ab5-4d09-aaed-c83920242e0a",
   "metadata": {},
   "source": [
    "**W 23 % danych brakuje nazw dzielnic**\n",
    "\n",
    "Korzystając z Pandas i współpracujących bibliotek Pythona, można na podstawie współrzędnych geograficznych (kolumn LATITUDE i LONGITUDE) uzupełnić brakujące informacje w kolumnie BOROUGH o dzielnicy Nowego Jorku.\n",
    "Można to zrobić na kilka sposobów np. na podstawie wstecznego geokodowania (reverse geocoding), które pozwoli przypisać nazwę dzielnicy (BOROUGH) bazując na współrzędnych LATITUDE i LONGITUDE. Można też wykorzystać dopasowanie przestrzenne.\n",
    "\n",
    "**W tym celu należy:**\n",
    "1. W poprawianych danych usunąć wiersze bez współrzędnych i lokalizacji\n",
    "2. Wczytać plik z geometrią granic dzielnic Nowego Jorku.\n",
    "3. Stworzyć geometrię punktową na podstawie LATITUDE i LONGITUDE.\n",
    "4. Sprawdzić zgodność układów współrzędnych dla obu zbiorów danych i jeżeli są różne, to wykonać transformację tak aby uzyskać zgodność.\n",
    "5. Wykonać przestrzenne dopasowanie (sjoin) punktów do dzielnic.\n",
    "6. Uzupełnić kolumnę BOROUGH na podstawie wyniku dopasowania."
   ]
  },
  {
   "cell_type": "markdown",
   "id": "7fbc5993-bb44-4868-980f-00b59fe72b39",
   "metadata": {},
   "source": [
    "#### 5.5.1 Przygotowanie danych wypadków"
   ]
  },
  {
   "cell_type": "code",
   "execution_count": null,
   "id": "7325b6e1-f80e-4c8b-9619-d602e1a77319",
   "metadata": {},
   "outputs": [],
   "source": [
    "from shapely.geometry import Point\n",
    "#import geopandas as gpd\n",
    "\n",
    "# Wybranie wierszy bez nazwy dzielnicy i tylko z podanymi współrzędnymi\n",
    "Missing_borough_df = Corrected_data_df[Corrected_data_df['BOROUGH'].isna() & Corrected_data_df['LATITUDE'].notna() & Corrected_data_df['LONGITUDE'].notna()]\n",
    "\n",
    "# Utworzenie geometrii dla miejsc wypadków (listy punków w przestrzeni płaskiej na podstawie współrzędnych długości i szerokości geograficznej)\n",
    "Points_with_accident_coordinates_ls = [Point(xy) for xy in zip(Missing_borough_df['LONGITUDE'], Missing_borough_df['LATITUDE'])]\n",
    "\n",
    "# Utworzenie zbioru danych o wypadkach z geometrią utowrzoną dla lokalizacji wypadków w postaci GeoDataFrame z przypisanym układem współrzędnych EPSG:4326\n",
    "Accidents_gdf = gpd.GeoDataFrame(Missing_borough_df, geometry=Points_with_accident_coordinates_ls, crs=\"EPSG:4326\")\n",
    "\n",
    "# Sprawdzenie przypisanego układu\n",
    "print(Accidents_gdf.crs)"
   ]
  },
  {
   "cell_type": "markdown",
   "id": "3718e47f-519f-452d-8538-1a4977e4b1e1",
   "metadata": {},
   "source": [
    "#### 5.5.2 Wczytanie geometrii granic dzielnic Nowego Jorku"
   ]
  },
  {
   "cell_type": "code",
   "execution_count": null,
   "id": "1f2c6d5a-27a4-4ae1-b399-9846287fde52",
   "metadata": {},
   "outputs": [],
   "source": [
    "# Załadowanie danych z granicami dzielnic NY z pliku SHP\n",
    "Boroughs_gdf = gpd.read_file(r\"Data/nybb_25a/nybb.shp\")"
   ]
  },
  {
   "cell_type": "code",
   "execution_count": null,
   "id": "11c9ac20-26da-4041-bc00-73cd35206931",
   "metadata": {},
   "outputs": [],
   "source": [
    "Boroughs_gdf.head(3)"
   ]
  },
  {
   "cell_type": "markdown",
   "id": "1308f001-d8b4-45c3-bf8f-3ba08c45e9e0",
   "metadata": {},
   "source": [
    "**Nazwy dzielnic zapisano w inny sposób niż w danych źródłowych, gdzie pisane są wielkimi literami**"
   ]
  },
  {
   "cell_type": "code",
   "execution_count": null,
   "id": "b6253964-17ac-4adf-baa0-d765f21fe8cc",
   "metadata": {},
   "outputs": [],
   "source": [
    "Boroughs_gdf.info()"
   ]
  },
  {
   "cell_type": "code",
   "execution_count": null,
   "id": "9e75db99-7ae5-4a8b-b936-54247c66c3dd",
   "metadata": {},
   "outputs": [],
   "source": [
    "# Wyświetlenie grafiki granic NY na podstawie pobranych danych\n",
    "Boroughs_gdf.explore()"
   ]
  },
  {
   "cell_type": "markdown",
   "id": "b6ccd83e-a9f5-4ba1-83e1-95b7e9a6728d",
   "metadata": {},
   "source": [
    "#### 5.5.3 Uzyskanie zgodności układów współrzędnych"
   ]
  },
  {
   "cell_type": "markdown",
   "id": "3b800ea5-7c6c-4001-8910-f8dc76edca30",
   "metadata": {},
   "source": [
    "##### Układ współrzędnych danych z geometrią granic Nowego Jorku"
   ]
  },
  {
   "cell_type": "markdown",
   "id": "3eb8bc48-be9f-4441-b789-587c0db140d2",
   "metadata": {},
   "source": [
    "Sprawdzenie układu współrzędnych danych z geometrią granic Nowego Jork"
   ]
  },
  {
   "cell_type": "code",
   "execution_count": null,
   "id": "31248924-b4a1-42f4-af1c-4cd8a10c6c8d",
   "metadata": {},
   "outputs": [],
   "source": [
    "print(Boroughs_gdf.crs)"
   ]
  },
  {
   "cell_type": "code",
   "execution_count": null,
   "id": "53acb3b7-a09f-4b08-afdf-d00a05b37952",
   "metadata": {},
   "outputs": [],
   "source": [
    "Boroughs_gdf.crs"
   ]
  },
  {
   "cell_type": "markdown",
   "id": "c2a6c602-9ae1-467c-95d9-5e7671330a47",
   "metadata": {},
   "source": [
    "##### Zmiana układu współrzędnych geometrii dzielnic Nowego Jorku"
   ]
  },
  {
   "cell_type": "markdown",
   "id": "d840f4a5-4222-4637-9000-ad57a4616614",
   "metadata": {},
   "source": [
    "Współrzędne lokalizacji miejsc wypadków w Nowym Jorku podane są w układzie **WGS 84 (EPSG:4326)**, a współrzędne z granicami dzielnic Nowego Yorku w  układzie **NAD83 / New York Long Island (ftUS) - EPSG:2263**. W związku z powyższym należy je przekonwertować tak aby były w jednakowym układzie."
   ]
  },
  {
   "cell_type": "code",
   "execution_count": null,
   "id": "cf572725-2daa-4c0f-96c7-14d2b9a00f9d",
   "metadata": {},
   "outputs": [],
   "source": [
    "# Zmiana układu współrzędnych na WGS84 (EPSG:4326), aby pasował do LATITUDE i LONGITUDE\n",
    "Boroughs_gdf = Boroughs_gdf.to_crs(epsg=4326)"
   ]
  },
  {
   "cell_type": "markdown",
   "id": "0ed93fa8-e543-4248-96c4-c852f4e3f1ba",
   "metadata": {},
   "source": [
    "Dla obliczania odległości dokładniejszy byłby metryczny układ EPSG:2263 (New York State Plane), ponieważ EPSG:4326 operuje na stopniach. Ale do celów tej analizy i o wizualizacj wystarczy EPSG:4326."
   ]
  },
  {
   "cell_type": "code",
   "execution_count": null,
   "id": "3230605f-7124-46bc-b2a3-94685c146a69",
   "metadata": {},
   "outputs": [],
   "source": [
    "print(\"Układ współrzędnych geometrii granic Nowego Jorku:\", Boroughs_gdf.crs)"
   ]
  },
  {
   "cell_type": "markdown",
   "id": "97d35e71-ef8f-41e5-9560-bdc36371b64b",
   "metadata": {},
   "source": [
    "#### 5.5.4 Uzupełnienie brakujacych nazw dzielnic w danych o wypadkach w Nowym Jorku"
   ]
  },
  {
   "cell_type": "markdown",
   "id": "6b942f56-3fd7-4cce-8b0c-8c7522e2ac30",
   "metadata": {},
   "source": [
    "Wiele punktów (lokalizacji miejsc wypadków), którym nie przypisano dzielnicy leży na granicy miasta.\n",
    "To warunek przestrzenny **predicate='within'** w złączeniu przestrzennym **sjoin** odpowiada za to żeby zostały połączone tylko te rekordy, dla których geometria z Accidents_gdf (punkt) znajduje się w obrębie (wewnątrz) geometrii z Boroughs_gdf. Predicate \"within\" wymaga, by punkt znajdował się **całkowicie wewnątrz** geometrii (np. poligonu dzielnicy). Punkty na krawędzi nie spełniają tego warunku — dlatego wynik to NaN.\n",
    "W celu przypisania ich do dzielnicy predicate zostanie zmieniony na **'intersects'** (punkt przecina poligon, czyli znajduje się wewnątrz lub na krawędzi) - dzięki temu zostaną przypisane również punkty leżące na granicy.\n"
   ]
  },
  {
   "cell_type": "code",
   "execution_count": null,
   "id": "63d16f75-2115-43c7-b682-89ac30bc12d6",
   "metadata": {},
   "outputs": [],
   "source": [
    "# Nazwy dzielnic w danych z granicami\n",
    "Boroughs_gdf[\"BoroName\"].unique()"
   ]
  },
  {
   "cell_type": "code",
   "execution_count": null,
   "id": "6e724459-f61d-4f53-920c-a93d267ce510",
   "metadata": {},
   "outputs": [],
   "source": [
    "# Zamiana nazw na pisownię wielkiemi literami\n",
    "Boroughs_gdf[\"BoroName\"] = Boroughs_gdf['BoroName'].str.upper()\n",
    "Boroughs_gdf[\"BoroName\"].unique()"
   ]
  },
  {
   "cell_type": "code",
   "execution_count": null,
   "id": "e0d609c9-85b0-487d-96ef-af4a67bd272a",
   "metadata": {},
   "outputs": [],
   "source": [
    "# Przypisanie dzielnicy do każdego punktu przy pomocy spatial join\n",
    "# przestrzennego łączenia punktów z granicami dzielnicami w celu sprawdzenia, w której dzielnicy leży dany punkt\n",
    "# i dołączenie kolumny BoroName z nazwą dzielnicy z granic dzielnic do punktów\n",
    "\n",
    "Accident_points_with_borough_gdf = gpd.sjoin(Accidents_gdf, Boroughs_gdf[['BoroName', 'geometry']], how='left', predicate=\"within\")\n",
    "\n",
    "# Uzupełnienie brakujących wartości w kolumnie 'BOROUGH'\n",
    "Corrected_data_df.loc[Accident_points_with_borough_gdf.index, 'BOROUGH'] = Accident_points_with_borough_gdf['BoroName']"
   ]
  },
  {
   "cell_type": "markdown",
   "id": "69bf2a9f-e576-4bfd-8b9f-ef46b2ec691f",
   "metadata": {},
   "source": [
    "Część punktów, którym nie przypisano dzielnicy leży na granicy miasta.\n",
    "W celu przypisania ich do dzielnicy zostanie użyty warunek predicate=\"intersects\" (punkt przecina poligon, czyli znajduje się wewnątrz lub na krawędzi).\n",
    "Dzięki temu zostaną przypisane również punkty leżące na granicy. \n",
    "Aby analiza objęła również punkty leżące niedaleko granicy dodatkowo dane przestrzenne zotaną rozszerzone o niewielki **bufor**. "
   ]
  },
  {
   "cell_type": "code",
   "execution_count": null,
   "id": "6ee731e1-208a-4129-b15c-76c1a9c77b44",
   "metadata": {},
   "outputs": [],
   "source": [
    "# Wybranie wierszy bez nazwy dzielnicy i tylko z podanymi współrzędnymi\n",
    "Missing_borough_df = Corrected_data_df[Corrected_data_df['BOROUGH'].isna() & Corrected_data_df['LATITUDE'].notna() & Corrected_data_df['LONGITUDE'].notna()]\n",
    "\n",
    "# Utworzenie geometrii dla miejsc wypadków (listy punków w przestrzeni płaskiej na podstawie współrzędnych długości i szerokości geograficznej)\n",
    "Points_with_accident_coordinates_ls = [Point(xy) for xy in zip(Missing_borough_df['LONGITUDE'], Missing_borough_df['LATITUDE'])]\n",
    "\n",
    "# Utworzenie zbioru danych o wypadkach z geometrią utowrzoną dla lokalizacji wypadków w postaci GeoDataFrame z przypisanym układem współrzędnych EPSG:4326\n",
    "Accidents_gdf = gpd.GeoDataFrame(Missing_borough_df, geometry=Points_with_accident_coordinates_ls, crs=\"EPSG:4326\")\n",
    "\n",
    "# zmiana punktu w \"kółko\" o promieniu około ok. 100–120 m (0.001° ≈ 111 m) poprzez zbudowanie buffora\n",
    "Accidents_gdf['geometry'] = Accidents_gdf.buffer(0.001)\n",
    "Accident_points_with_borough_gdf = gpd.sjoin(Accidents_gdf, Boroughs_gdf[['BoroName', 'geometry']], how='left', predicate=\"intersects\")"
   ]
  },
  {
   "cell_type": "code",
   "execution_count": null,
   "id": "9aff0191-7e6a-49f8-ad86-f3c0e14a16cf",
   "metadata": {},
   "outputs": [],
   "source": [
    "Accident_points_with_borough_gdf.head(3)"
   ]
  },
  {
   "cell_type": "code",
   "execution_count": null,
   "id": "ff201eb1-e83b-4b5b-af57-8a70b26a82de",
   "metadata": {},
   "outputs": [],
   "source": [
    "# Liczba punktów z podaną dzielicą\n",
    "len(Accident_points_with_borough_gdf)"
   ]
  },
  {
   "cell_type": "code",
   "execution_count": null,
   "id": "eb394716-8a76-46aa-8bde-eb8be44604cf",
   "metadata": {},
   "outputs": [],
   "source": [
    "# Nazwy dzielnic w danych z geometrią granic miasta\n",
    "Boroughs_gdf[\"BoroName\"].unique()"
   ]
  },
  {
   "cell_type": "code",
   "execution_count": null,
   "id": "bf9854ba-61b8-4481-a627-0b036373ea15",
   "metadata": {},
   "outputs": [],
   "source": [
    "# Uzupełnienie brakujących wartości w kolumnie 'BOROUGH'\n",
    "Corrected_data_df.loc[Accident_points_with_borough_gdf.index, 'BOROUGH'] = Accident_points_with_borough_gdf['BoroName']"
   ]
  },
  {
   "cell_type": "code",
   "execution_count": null,
   "id": "e26840fb-a5b7-4795-86e5-ccfe59523923",
   "metadata": {},
   "outputs": [],
   "source": [
    "Corrected_data_df.head(3)"
   ]
  },
  {
   "cell_type": "code",
   "execution_count": null,
   "id": "3b596e89-eed7-4f59-bbb4-bd2d636398b1",
   "metadata": {},
   "outputs": [],
   "source": [
    "#Liczba brakujących danych w poszczególnych kolumnach\n",
    "Missing_date_df = Corrected_data_df.isnull().sum()\n",
    "Missing_date_df = Missing_date_df.to_frame(name = \"Number of missing data\")\n",
    "\n",
    "#Procent brakujących danych\n",
    "Missing_percentage_df = Corrected_data_df.isnull().sum()*100/len(Initial_data_df)\n",
    "Missing_percentage_df = Missing_percentage_df.round(2).to_frame(name = \"Percentage of missing data [%]\")\n",
    "\n",
    "#Złączenie ramek\n",
    "Missing_date_df.join(Missing_percentage_df)"
   ]
  },
  {
   "cell_type": "code",
   "execution_count": null,
   "id": "4d05029d-b0dd-44dc-9533-2fb0ea2b963a",
   "metadata": {},
   "outputs": [],
   "source": [
    "# Sprawdzenie czy są i gdzie leżą punkty bez wskazanej dzielnicy mimo iż mają podane współrzędne miejsc wypadków\n",
    "\n",
    "# Wybranie wierszy bez nazwy dzielnicy i tylko z podanymi współrzędnymi\n",
    "Missing_borough_df = Corrected_data_df[Corrected_data_df['BOROUGH'].isna() & Corrected_data_df['LATITUDE'].notna() & Corrected_data_df['LONGITUDE'].notna()]\n",
    "\n",
    "# Utworzenie geometrii dla miejsc wypadków (listy punków w przestrzeni płaskiej na podstawie współrzędnych długości i szerokości geograficznej)\n",
    "Points_with_accident_coordinates_ls = [Point(xy) for xy in zip(Missing_borough_df['LONGITUDE'], Missing_borough_df['LATITUDE'])]\n",
    "\n",
    "# Utworzenie zbioru danych o wypadkach bez wskazanej dzielnicy z geometrią dla lokalizacji wypadków w postaci GeoDataFrame z przypisanym układem współrzędnych EPSG:4326\n",
    "Accidents_without_borough_gdf = gpd.GeoDataFrame(Missing_borough_df, geometry=Points_with_accident_coordinates_ls, crs=\"EPSG:4326\")\n"
   ]
  },
  {
   "cell_type": "code",
   "execution_count": null,
   "id": "ef88e7ee-ca75-41d9-a5bc-80d58c4052a6",
   "metadata": {},
   "outputs": [],
   "source": [
    "# Interaktywna mapa\n",
    "\n",
    "# Warstwa z granicami dzielnic\n",
    "m = Boroughs_gdf.explore(color=\"blue\", style_kwds={'fillOpacity': 0, 'weight': 2}, tooltip=\"BoroName\")\n",
    "\n",
    "# Dodanie warstwy z wypadkami\n",
    "Accidents_without_borough_gdf.explore(m=m, color=\"red\", marker_kwds={'radius': 3}, tooltip=\"COLLISION_ID\")"
   ]
  },
  {
   "cell_type": "code",
   "execution_count": null,
   "id": "7836399c-821c-4e20-8fcb-0f7fa175ef82",
   "metadata": {},
   "outputs": [],
   "source": [
    "Accidents_without_borough_gdf.head(3)"
   ]
  },
  {
   "cell_type": "markdown",
   "id": "a3c7128f-454e-4017-bf0f-0c1a3face7b9",
   "metadata": {},
   "source": [
    "### 🚙 **5.6 Dane dotyczące typów pojazdów**\n"
   ]
  },
  {
   "cell_type": "code",
   "execution_count": null,
   "id": "d36fdd02-286a-4c07-ad64-4b98e0e0269f",
   "metadata": {},
   "outputs": [],
   "source": [
    "# Kolumny z typami pojazdów, które uczestniczyły w wypadkach\n",
    "Vehicle_columns = [\n",
    "    'VEHICLE TYPE CODE 1', 'VEHICLE TYPE CODE 2',\n",
    "    'VEHICLE TYPE CODE 3', 'VEHICLE TYPE CODE 4', 'VEHICLE TYPE CODE 5'\n",
    "]"
   ]
  },
  {
   "cell_type": "code",
   "execution_count": null,
   "id": "4f6981fe-8fe9-4216-a827-e6ab661f4f23",
   "metadata": {},
   "outputs": [],
   "source": [
    "# Unikalne typy pojazdów po konwersji na wielkie litery\n",
    "Unique_vehicle_types_sr = pd.Series(dtype=str)\n",
    "for col in Vehicle_columns:\n",
    "    unique_values = Corrected_data_df[col].dropna().str.upper().unique()\n",
    "    Unique_vehicle_types_sr = pd.concat([Unique_vehicle_types_sr, pd.Series(unique_values)])\n",
    "\n",
    "# Usunięcie duplikatów i sortowanie\n",
    "Unique_vehicle_types_sr = Unique_vehicle_types_sr.drop_duplicates().sort_values().reset_index(drop=True)"
   ]
  },
  {
   "cell_type": "code",
   "execution_count": null,
   "id": "cefeba73-aa6b-4883-93e1-f04e995e88f9",
   "metadata": {},
   "outputs": [],
   "source": [
    "# Liczba unikalnych typów pojazdów\n",
    "len(Unique_vehicle_types_sr)"
   ]
  },
  {
   "cell_type": "code",
   "execution_count": null,
   "id": "93eba5c1-3112-4c17-b90f-78ef542d57da",
   "metadata": {},
   "outputs": [],
   "source": [
    "# Wyeksportowanie typów pojazdów do pliku csv\n",
    "Unique_vehicle_types_sr.to_csv(r\"Data/unique_vehicle_types.csv\", index=False)"
   ]
  },
  {
   "cell_type": "markdown",
   "id": "025b006e-12e4-46fe-957c-4c2997b8f82a",
   "metadata": {},
   "source": [
    "**Wynik analizy:**\n",
    "* dane zawierają wiele wartości nietypowych, prawdopodobnie błędnych (np. \"0\", \"1\", \"2015\", \"11 PA\")\n",
    "* inne mogą być wariantami istniejących kategorii (np. \"2 DR SEDAN\", \"4 DR SEDAN\")"
   ]
  },
  {
   "cell_type": "markdown",
   "id": "7e2667e1-13da-4719-8d36-00616023ece5",
   "metadata": {},
   "source": [
    "**Czynności do wykonania w celu poprawy jakości danych:**\n",
    "* wartości ewidentnie błędne (np. cyfry, skróty niebędące nazwami pojazdów) zostaną umieszczone na liście wartości do odrzucenia - Excluded_values;\n",
    "* warianty jednej nazwy (np. \"2 DR SEDAN\" → \"SEDAN\") zostaną pogrupowane w mapie normalizacji typów pajazdów - Reverse_vehicle_map;\n",
    "* pozostałe – zostaną oznaczone jako \"UNMAPPED\" lub zachowane do dalszej klasyfikacji ręcznej."
   ]
  },
  {
   "cell_type": "code",
   "execution_count": null,
   "id": "197b2833-54e3-4d5c-b1c4-c30a5dee4ee8",
   "metadata": {},
   "outputs": [],
   "source": [
    "# Mapa normalizująca typy pojazdów\n",
    "Reverse_vehicle_map = {\n",
    "    # PASSENGER VEHICLE\n",
    "    \"SEDAN\": \"PASSENGER VEHICLE\", \"4DSD\": \"PASSENGER VEHICLE\", \"TAXI\": \"PASSENGER VEHICLE\",\n",
    "    \"LIVERY\": \"PASSENGER VEHICLE\", \"COUPE\": \"PASSENGER VEHICLE\", \"CONVERTIBLE\": \"PASSENGER VEHICLE\",\n",
    "    \"HATCHBACK\": \"PASSENGER VEHICLE\", \"2 DR SEDAN\": \"PASSENGER VEHICLE\", \"4 DR SEDAN\"\n",
    "    \"TLC\": \"PASSENGER VEHICLE\", \"GOLF\": \"PASSENGER VEHICLE\", \"PASSENGER VEHICLE\": \"PASSENGER VEHICLE\",\n",
    "\n",
    "    # SUV\n",
    "    \"SUV\": \"SUV\", \"SPORT UTILITY / STATION WAGON\": \"SUV\", \"S.U.V.\": \"SUV\", \"S/U V\": \"SUV\",\n",
    "\n",
    "    # LIGHT TRUCK\n",
    "    \"PICK-UP TRUCK\": \"LIGHT TRUCK\", \"PICKUP TRUCK\": \"LIGHT TRUCK\", \"PICK UP TRUCK\": \"LIGHT TRUCK\",\n",
    "    \"P/U\": \"LIGHT TRUCK\", \"PICK\": \"LIGHT TRUCK\", \"PICK-\": \"LIGHT TRUCK\", \"PICKU\": \"LIGHT TRUCK\",\n",
    "    \"PK\": \"LIGHT TRUCK\", \"PKUP\": \"LIGHT TRUCK\",\n",
    "\n",
    "    # VAN\n",
    "    \"VAN\": \"VAN\", \"CARGO VAN\": \"VAN\", \"MINIVAN\": \"VAN\", \"MINI VAN\": \"VAN\", \"MINIV\": \"VAN\", \"LUNCH WAGON\": \"VAN\",\n",
    "    \"C/V\": \"VAN\", \"VAN/TRUCK\": \"VAN\", \"MINI-VAN\": \"VAN\", \"M/V\": \"VAN\",\"VAN (\": \"VAN\", \"VAN A\": \"VAN\", \"VAN C\": \"VAN\",\n",
    "    \"VAN CAMPER\": \"VAN\", \"VAN F\": \"VAN\", \"VAN T\": \"VAN\", \"VAN W\": \"VAN\", \"VAN/T\": \"VAN\",\n",
    "\n",
    "    # TRUCK\n",
    "    \"BOX TRUCK\": \"TRUCK\", \"TRACTOR TRUCK\": \"TRUCK\", \"TRUCK\": \"TRUCK\", \"FLATBED\": \"TRUCK\",\n",
    "    \"DUMP\": \"TRUCK\", \"MACK\": \"TRUCK\", \"MAC T\": \"TRUCK\", \"MULTI-WHEELED VEHICLE\": \"TRUCK\",\n",
    "    \"TRACTOR\": \"TRUCK\", \"18 WHEELER\" \"DELIVERY TRUCK\": \"TRUCK\", \"BEVERAGE TRUCK\": \"TRUCK\",\n",
    "    \"TRAC\": \"TRUCK\", \"TOW TRUCK\": \"TRUCK\", \"TOW TRUCK / WRECKER\": \"TRUCK\", \"TRAC\": \"TRUCK\",\n",
    "    \"TRAC.\": \"TRUCK\", \"TRACK\": \"TRUCK\", \"TRACT\": \"TRUCK\", \"TRACTOR TRUCK DIESEL\": \"TRUCK\",\n",
    "    \"TRACTOR TRUCK GASOLINE\": \"TRUCK\",\n",
    "\n",
    "    # BUS\n",
    "    \"BUS\": \"BUS\", \"SCHOOL BUS\": \"BUS\", \"COMMERCIAL BUS\": \"BUS\", \"INTERCITY BUS\": \"BUS\",\n",
    "    \"TOUR BUS\": \"BUS\", \"CHARTER BUS\": \"BUS\",\n",
    "\n",
    "    # MOTORCYCLE\n",
    "    \"MOTORCYCLE\": \"MOTORCYCLE\", \"SCOOTER\": \"MOTORCYCLE\", \"MOTORSCOOTER\": \"MOTORCYCLE\",\n",
    "    \"MOPED\": \"MOTORCYCLE\", \"MO-PE\": \"MOTORCYCLE\", \"MOPAD\": \"MOTORCYCLE\", \"MOPET\": \"MOTORCYCLE\",\n",
    "    \"MOTORBIKE\": \"MOTORCYCLE\", \"E-SCOOTER\": \"MOTORCYCLE\", \"MC\": \"MOTORCYCLE\", \"M/C\": \"MOTORCYCLE\",\n",
    "\n",
    "    # BICYCLE\n",
    "    \"BICYCLE\": \"BICYCLE\", \"BIKE\": \"BICYCLE\", \"E-BIKE\": \"BICYCLE\", \"E-BICYCLE\": \"BICYCLE\",\n",
    "    \"MINIBIKE\": \"BICYCLE\", \"MINICYCLE\" \"ELECTRIC BIKE\": \"BICYCLE\", \"BICYC\"\n",
    "    \"EBIKE\": \"BICYCLE\", \"E- BI\": \"BICYCLE\", \"E-BIK\": \"BICYCLE\", \"E/BIK\": \"BICYCLE\",\n",
    "\n",
    "    # EMERGENCY\n",
    "    \"AMBULANCE\": \"EMERGENCY\", \"FIRE TRUCK\": \"EMERGENCY\", \"FIRET\": \"EMERGENCY\",\n",
    "    \"FDNY\": \"EMERGENCY\", \"EMERGENCY VEHICLE\": \"EMERGENCY\", \"EMS\": \"EMERGENCY\",\n",
    "    \"AMABU\": \"EMERGENCY\", \"AMBU\": \"EMERGENCY\", \"AMBUL\": \"EMERGENCY\", \"ANBUL\": \"EMERGENCY\",\n",
    "\n",
    "    # OTHER\n",
    "    \"MOTOR HOME\": \"OTHER\", \"MOTORIZED HOME\": \"OTHER\", \"MAIL\": \"OTHER\", \"MTA\": \"OTHER\",\n",
    "    \"NYC D\": \"OTHER\", \"NYC M\": \"OTHER\", \"LTR\": \"OTHER\", \"CEME\": \"OTHER\", \"ME/BE\": \"OTHER\",\n",
    "    \"MAN L\": \"OTHER\", \"U-HAUL\": \"OTHER\", \"UTILITY\": \"OTHER\", \"UTILITY TRAILER\": \"OTHER\",\n",
    "    \"POSTAL\": \"OTHER\",\n",
    "\n",
    "    # Do odfiltrowania\n",
    "    \"UNKNOWN\": None, \"UNKOWN\": None, \"\": None, \"N/A\": None, None: None\n",
    "}\n",
    "\n",
    "\n",
    "# Lista wartości do odrzucenia\n",
    "Excluded_values = {\n",
    "    \"\", \"UNKNOWN\", \"UNKOWN\", \"OTHER\", \"N/A\", None,\n",
    "    \"0\", \"00\", \"1\", \"11 PA\", \"2015\", \"985\", \"C/O\"\n",
    "}\n",
    "\n",
    "# Czyszczenie danych i kategoryzacja\n",
    "Cleaned_vehicles_sr = pd.concat([\n",
    "    Corrected_data_df[col]\n",
    "    .dropna()\n",
    "    .str.upper()\n",
    "    .map(Reverse_vehicle_map)\n",
    "    for col in Vehicle_columns\n",
    "])\n",
    "\n",
    "# Filtrowanie nieistotnych\n",
    "Cleaned_vehicles_sr = Cleaned_vehicles_sr[~Cleaned_vehicles_sr.isin(Excluded_values)]\n",
    "\n",
    "# Zliczenie i procenty\n",
    "Vehicle_counts_sr = Cleaned_vehicles_sr.value_counts()\n",
    "Vehicle_percentages_sr = (Vehicle_counts_sr / Vehicle_counts_sr.sum() * 100).round(1)\n",
    "\n",
    "# Wykres słupkowy z procentami wewnątrz\n",
    "plt.figure(figsize=(10, 6))\n",
    "bars = plt.barh(\n",
    "    Vehicle_counts_sr.index[::-1],\n",
    "    Vehicle_counts_sr.values[::-1],\n",
    "    color='slateblue'\n",
    ")\n",
    "\n",
    "# Dodanie etykiet procentowych do środka słupków\n",
    "for bar, percent in zip(bars, Vehicle_percentages_sr.values[::-1]):\n",
    "    width = bar.get_width()\n",
    "    plt.text(width / 2, bar.get_y() + bar.get_height() / 2,\n",
    "             f\"{percent:.1f}%\", ha='center', va='center', color='white', fontsize=9)\n",
    "\n",
    "plt.title(\"Typy pojazdów biorących udział w wypadkach\")\n",
    "plt.xlabel(\"Liczba wypadków\")\n",
    "plt.ylabel(\"Typ pojazdu\")\n",
    "plt.grid(axis='x', linestyle='--', alpha=0.6)\n",
    "plt.tight_layout()\n",
    "plt.show()"
   ]
  },
  {
   "cell_type": "markdown",
   "id": "dd7bbe82-11c2-4c39-abb4-05dfb97cc40b",
   "metadata": {},
   "source": [
    "**Pozostałe nierozpoznane wartości**\n",
    "\n",
    "Zidentyfikowano jeszcze kilkaset nierozpoznanych nazw typów pojazdów (np. '(CEME', '2 HOR', '4DS', '3-WHE', '12 PA'). \n",
    "W wyniku dalszej analizy będzie można je:\n",
    "* przypisać ręcznie do jednej z kategorii,\n",
    "* potraktować jako dane niekwalifikujące się do analizy (i je odfiltrować),\n",
    "* przeanalizować ich występowanie i znaczenie (jeśli są częste)."
   ]
  },
  {
   "cell_type": "markdown",
   "id": "e2222669-736f-4fd9-89a1-1b0e2bbfad4d",
   "metadata": {},
   "source": [
    "## 💾 **6. Zapisanie skorygowanych danych**\n",
    "---"
   ]
  },
  {
   "cell_type": "code",
   "execution_count": null,
   "id": "0ad5ec8d-2259-49aa-8bf3-71455cbd57e7",
   "metadata": {},
   "outputs": [],
   "source": [
    "Corrected_data_df.to_csv(r\"Data/nypd-motor-vehicle-collisions/nypd-motor-vehicle-collisions-updated.csv\", index=False)"
   ]
  },
  {
   "cell_type": "code",
   "execution_count": null,
   "id": "c1680b2e-ffa6-4c3c-ac0e-a1fa1cef1e20",
   "metadata": {},
   "outputs": [],
   "source": [
    "Corrected_data_df.info()"
   ]
  },
  {
   "cell_type": "markdown",
   "id": "a09f31b0-42b7-4570-8620-9eb5e3354705",
   "metadata": {},
   "source": [
    "## ✅ **7. Podsumowanie części I projektu**\n",
    "---"
   ]
  },
  {
   "cell_type": "markdown",
   "id": "d85f3cf0",
   "metadata": {},
   "source": [
    "#### 📥 Sekcja: Wczytanie i podstawowa inspekcja danych\n",
    "\n",
    "> ✅ Dane zostały pomyślnie zaimportowane i wstępnie zbadane pod kątem liczby rekordów, typów kolumn oraz podstawowych statystyk opisowych.  \n",
    "> 📌 Zidentyfikowano brakujące wartości oraz kolumny potencjalnie nieprzydatne w dalszych analizach.\n"
   ]
  },
  {
   "cell_type": "markdown",
   "id": "c97bffc9",
   "metadata": {},
   "source": [
    "#### 🧹 Sekcja: Czyszczenie danych\n",
    "\n",
    "> 🧽 Przeprowadzono szereg operacji czyszczących:  \n",
    "> - usunięcie rekordów z błędnymi lub brakującymi datami,  \n",
    "> - przekształcenie typów danych (np. daty/czasu),  \n",
    "> - ujednolicenie formatów tekstowych i usunięcie pustych pól.\n",
    "\n",
    "> 📉 Usunięto także dane spoza granic miasta, przygotowując zbiór do dalszych analiz przestrzennych.\n"
   ]
  },
  {
   "cell_type": "markdown",
   "id": "b5f13888",
   "metadata": {},
   "source": [
    "#### 🌍 Sekcja: Lokalizacja i konwersja współrzędnych\n",
    "\n",
    "> 📍 Dokonano konwersji danych lokalizacyjnych do formatu przestrzennego (GeoDataFrame).  \n",
    "> 🗺️ Ustandaryzowano układ współrzędnych (EPSG:4326 i EPSG:2263) z myślą o analizie geograficznej i agregacji danych w dzielnicach.\n"
   ]
  },
  {
   "cell_type": "markdown",
   "id": "21277147",
   "metadata": {},
   "source": [
    "#### 🧾 Sekcja: Finalne przygotowanie danych\n",
    "\n",
    "> ✅ Dane zostały zapisane w ramce `Corrected_data_df` i zapisane do pliku CSV - gotowe do dalszej analizy.  \n",
    "> 🔁 Uwzględniono zarówno rekordy z poprawną lokalizacją (dla analiz dzielnicowych), jak i dane bez współrzędnych (dla analiz ogólnych).\n"
   ]
  },
  {
   "cell_type": "markdown",
   "id": "6e854ae7",
   "metadata": {},
   "source": [
    "### 📊 **Końcowe wnioski z części I projektu**\n",
    "\n",
    "> 🔎 Dane wejściowe wymagały istotnego przetworzenia, obejmującego:\n",
    "> - identyfikację i usunięcie błędnych lokalizacji,  \n",
    "> - oczyszczenie pól tekstowych i dat,  \n",
    "> - konwersję danych do formatów przestrzennych.\n",
    "\n",
    "> 🛠️ Dzięki tym operacjom przygotowano wiarygodny zbiór danych, gotowy do kompleksowej analizy w kolejnych etapach projektu (**Część II projektu**).  \n",
    "> 📂 Dane zostały zorganizowane w sposób ułatwiający agregację i wizualizację w podziale na dzielnice, typy pojazdów, przyczyny wypadków oraz czas.\n"
   ]
  }
 ],
 "metadata": {
  "kernelspec": {
   "display_name": "Python 3 (ipykernel)",
   "language": "python",
   "name": "python3"
  },
  "language_info": {
   "codemirror_mode": {
    "name": "ipython",
    "version": 3
   },
   "file_extension": ".py",
   "mimetype": "text/x-python",
   "name": "python",
   "nbconvert_exporter": "python",
   "pygments_lexer": "ipython3",
   "version": "3.12.4"
  }
 },
 "nbformat": 4,
 "nbformat_minor": 5
}
